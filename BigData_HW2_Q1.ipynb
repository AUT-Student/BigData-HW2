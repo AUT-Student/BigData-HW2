{
  "nbformat": 4,
  "nbformat_minor": 0,
  "metadata": {
    "colab": {
      "name": "BigData_HW2_Q1.ipynb",
      "provenance": [],
      "collapsed_sections": [],
      "toc_visible": true,
      "authorship_tag": "ABX9TyOTjMCWpT1tKx6shxag5fFQ",
      "include_colab_link": true
    },
    "kernelspec": {
      "name": "python3",
      "display_name": "Python 3"
    },
    "language_info": {
      "name": "python"
    }
  },
  "cells": [
    {
      "cell_type": "markdown",
      "metadata": {
        "id": "view-in-github",
        "colab_type": "text"
      },
      "source": [
        "<a href=\"https://colab.research.google.com/github/AUT-Student/BigData-HW2/blob/main/BigData_HW2_Q1.ipynb\" target=\"_parent\"><img src=\"https://colab.research.google.com/assets/colab-badge.svg\" alt=\"Open In Colab\"/></a>"
      ]
    },
    {
      "cell_type": "markdown",
      "source": [
        "# Libraries"
      ],
      "metadata": {
        "id": "06tuHJ4Dw3L9"
      }
    },
    {
      "cell_type": "code",
      "execution_count": 1,
      "metadata": {
        "id": "0dreX-E4gw85"
      },
      "outputs": [],
      "source": [
        "import numpy as np \n",
        "from collections import deque"
      ]
    },
    {
      "cell_type": "markdown",
      "source": [
        "# Dataset"
      ],
      "metadata": {
        "id": "GCQwKSy0w6lW"
      }
    },
    {
      "cell_type": "code",
      "source": [
        "!gdown 1PdXgb4w0gtsocKHmeGQ_zPfb3VbW9YhL\n",
        "!unzip /content/Bigdata_hw2_datasets.zip"
      ],
      "metadata": {
        "colab": {
          "base_uri": "https://localhost:8080/"
        },
        "id": "THXVP_b0w9lM",
        "outputId": "60e6dd2c-fec2-44af-b621-70096aaab7f5"
      },
      "execution_count": 2,
      "outputs": [
        {
          "output_type": "stream",
          "name": "stdout",
          "text": [
            "Downloading...\n",
            "From: https://drive.google.com/uc?id=1PdXgb4w0gtsocKHmeGQ_zPfb3VbW9YhL\n",
            "To: /content/Bigdata_hw2_datasets.zip\n",
            "\r  0% 0.00/6.28M [00:00<?, ?B/s]\r 75% 4.72M/6.28M [00:00<00:00, 44.6MB/s]\r100% 6.28M/6.28M [00:00<00:00, 56.6MB/s]\n",
            "Archive:  /content/Bigdata_hw2_datasets.zip\n",
            "   creating: Bigdata_hw2_datasets/\n",
            "   creating: Bigdata_hw2_datasets/q1/\n",
            "  inflating: Bigdata_hw2_datasets/q1/stream_data_dgim.txt  \n",
            "   creating: Bigdata_hw2_datasets/q2/\n",
            "  inflating: Bigdata_hw2_datasets/q2/games.csv  \n",
            "  inflating: Bigdata_hw2_datasets/q2/ratings.csv  \n",
            "   creating: Bigdata_hw2_datasets/q3/\n",
            "  inflating: Bigdata_hw2_datasets/q3/c1.txt  \n",
            "  inflating: Bigdata_hw2_datasets/q3/c2.txt  \n",
            "  inflating: Bigdata_hw2_datasets/q3/data.txt  \n"
          ]
        }
      ]
    },
    {
      "cell_type": "code",
      "source": [
        "dataset = [int(x) for x in  open(\"/content/Bigdata_hw2_datasets/q1/stream_data_dgim.txt\").readlines()[0].split(\"\\t\")[:-1]]"
      ],
      "metadata": {
        "id": "IoY3WW-XxS2_"
      },
      "execution_count": 3,
      "outputs": []
    },
    {
      "cell_type": "code",
      "source": [
        "len(dataset)"
      ],
      "metadata": {
        "colab": {
          "base_uri": "https://localhost:8080/"
        },
        "id": "ikYqbVGB0f6S",
        "outputId": "52313c2f-c4a8-490f-8b9e-13e0004875eb"
      },
      "execution_count": 4,
      "outputs": [
        {
          "output_type": "execute_result",
          "data": {
            "text/plain": [
              "40000"
            ]
          },
          "metadata": {},
          "execution_count": 4
        }
      ]
    },
    {
      "cell_type": "markdown",
      "source": [
        "# DGIM"
      ],
      "metadata": {
        "id": "vJ-CedmAyNfq"
      }
    },
    {
      "cell_type": "code",
      "source": [
        "class Bucket():\n",
        "  def __init__(self, size, start, end):\n",
        "    self.size = size\n",
        "    self.start = start\n",
        "    self.end = end\n",
        "\n",
        "  @staticmethod\n",
        "  def combine(bucket1, bucket2):\n",
        "    assert bucket1.size == bucket2.size\n",
        "\n",
        "    new_size = bucket1.size * 2\n",
        "    new_start = min(bucket1.start, bucket2.start)\n",
        "    new_end = max(bucket1.end, bucket2.end)\n",
        "\n",
        "    return Bucket(size=new_size, start=new_start, end=new_end)\n",
        "  \n",
        "  def is_size(self, size):\n",
        "    return self.size == size\n",
        "\n",
        "  def is_complete_out_window(self, window_size, counter):\n",
        "    return self.start + window_size <= counter \n",
        "\n",
        "  def is_partial_out_window(self, window_size, counter):\n",
        "    return self.end + window_size <= counter\n",
        "\n",
        "  def __str__(self):\n",
        "    return f\"start = {self.start}, end = {self.end}, size = {self.size}\""
      ],
      "metadata": {
        "id": "LreW0XY81XbA"
      },
      "execution_count": 23,
      "outputs": []
    },
    {
      "cell_type": "code",
      "source": [
        "class DGIM():\n",
        "  def __init__(self, window_size):\n",
        "    self.window_size = window_size\n",
        "    self.dataset = dataset\n",
        "    self.counter = 0\n",
        "    self.buckets = deque()\n",
        "\n",
        "  def read(self, data):\n",
        "    if data == 0:\n",
        "      return\n",
        "\n",
        "    new_bucket = Bucket(size=1, start=self.counter, end=self.counter)\n",
        "    self.buckets.appendleft(new_bucket)\n",
        "    self.counter += 1\n",
        "    \n",
        "    self._combine_small_buckets()\n",
        "    self._remove_out_window_bucket()\n",
        "    \n",
        "  def _combine_small_buckets(self):\n",
        "    size = 1\n",
        "    check = 0\n",
        "\n",
        "    while(check+2 < len(self.buckets)):\n",
        "\n",
        "      bucket_0 = self.buckets[check+0]\n",
        "      bucket_1 = self.buckets[check+1]\n",
        "      bucket_2 = self.buckets[check+2]\n",
        "\n",
        "      if bucket_0.is_size(size) and self.bucket_1.is_size(size) and self.buckets_2.is_size(size):\n",
        "\n",
        "        tmp_list = []\n",
        "\n",
        "        for i in range(check+1):\n",
        "          tmp_list.append(self.buckets.popleft())\n",
        "\n",
        "        bucket_1 = self.buckets.popleft()\n",
        "        bucket_2 = self.buckets.popleft()\n",
        "\n",
        "        bucket_12 = Bucket.combine(bucket_1, bucket_2)\n",
        "        self.buckets.appendleft(bucket_12)\n",
        "\n",
        "        for i in range(check, -1, -1):\n",
        "          self.buckets.appendleft(tmp_list[i])\n",
        "        \n",
        "        check += 1\n",
        "        size *= 2\n",
        "\n",
        "      else:\n",
        "        break\n",
        "\n",
        "  def _remove_out_window_bucket(self):\n",
        "    if self.buckets[-1].is_complete_out_window(self.window_size, self.counter):\n",
        "      self.buckets.pop()\n",
        "\n",
        "  def predict(self):\n",
        "    output = 0\n",
        "\n",
        "    for i in range(len(self.buckets)-1):\n",
        "      output += self.buckets[i].size\n",
        "\n",
        "    if self.buckets.is_partial_out_window(self.window_size, self.counter):\n",
        "      output += 0.5 * self.buckets[-1].size\n",
        "    else:\n",
        "      output += self.buckets[-1].size\n",
        "\n",
        "    return output\n",
        "\n",
        "  def predict_partial(self, partial_size):\n",
        "    output = 0\n",
        "\n",
        "    for i in range(len(self.buckets)):\n",
        "      if self.buckets[i].is_partial_out_window(self.window_size, self.counter):\n",
        "        output += 0.5 * self.buckets[i].size\n",
        "        break\n",
        "      else:\n",
        "        output += self.buckets[i].size\n",
        "\n",
        "    return output\n",
        "\n",
        "  def visualize(self):\n",
        "    print(f\"Counter = {self.counter}\")\n",
        "\n",
        "    print(f\"Buckets = \")\n",
        "    for i in range(len(self.buckets)):\n",
        "      print(self.buckets[i])"
      ],
      "metadata": {
        "id": "Iki3LsN-xp3J"
      },
      "execution_count": 25,
      "outputs": []
    }
  ]
}