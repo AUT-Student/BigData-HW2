{
  "nbformat": 4,
  "nbformat_minor": 0,
  "metadata": {
    "colab": {
      "name": "BigData_HW2_Q1.ipynb",
      "provenance": [],
      "collapsed_sections": [],
      "toc_visible": true,
      "authorship_tag": "ABX9TyOLEwGW8DA+KZW0958g15WK",
      "include_colab_link": true
    },
    "kernelspec": {
      "name": "python3",
      "display_name": "Python 3"
    },
    "language_info": {
      "name": "python"
    }
  },
  "cells": [
    {
      "cell_type": "markdown",
      "metadata": {
        "id": "view-in-github",
        "colab_type": "text"
      },
      "source": [
        "<a href=\"https://colab.research.google.com/github/AUT-Student/BigData-HW2/blob/main/BigData_HW2_Q1.ipynb\" target=\"_parent\"><img src=\"https://colab.research.google.com/assets/colab-badge.svg\" alt=\"Open In Colab\"/></a>"
      ]
    },
    {
      "cell_type": "markdown",
      "source": [
        "<center><b>In the name of God</b></center>\n",
        "\n",
        "<b>Course</b>: ‌Big Data\n",
        "<br>\n",
        "<b>Description:</b> HomeWork 2 | Question 1\n",
        "<br>\n",
        "<b>Developer</b>: Alireza Mazochi (400131075)"
      ],
      "metadata": {
        "id": "FBbp9aLuHB4V"
      }
    },
    {
      "cell_type": "markdown",
      "source": [
        "# Libraries"
      ],
      "metadata": {
        "id": "06tuHJ4Dw3L9"
      }
    },
    {
      "cell_type": "code",
      "execution_count": 1,
      "metadata": {
        "id": "0dreX-E4gw85"
      },
      "outputs": [],
      "source": [
        "import numpy as np \n",
        "import time\n",
        "import random\n",
        "from collections import deque"
      ]
    },
    {
      "cell_type": "markdown",
      "source": [
        "# Dataset"
      ],
      "metadata": {
        "id": "GCQwKSy0w6lW"
      }
    },
    {
      "cell_type": "code",
      "source": [
        "!gdown 1PdXgb4w0gtsocKHmeGQ_zPfb3VbW9YhL\n",
        "!unzip /content/Bigdata_hw2_datasets.zip"
      ],
      "metadata": {
        "colab": {
          "base_uri": "https://localhost:8080/"
        },
        "id": "THXVP_b0w9lM",
        "outputId": "6349d8d8-df32-4c22-81ae-acd40e94dfef"
      },
      "execution_count": 2,
      "outputs": [
        {
          "output_type": "stream",
          "name": "stdout",
          "text": [
            "Downloading...\n",
            "From: https://drive.google.com/uc?id=1PdXgb4w0gtsocKHmeGQ_zPfb3VbW9YhL\n",
            "To: /content/Bigdata_hw2_datasets.zip\n",
            "\r  0% 0.00/6.28M [00:00<?, ?B/s]\r 75% 4.72M/6.28M [00:00<00:00, 23.9MB/s]\r100% 6.28M/6.28M [00:00<00:00, 31.0MB/s]\n",
            "Archive:  /content/Bigdata_hw2_datasets.zip\n",
            "   creating: Bigdata_hw2_datasets/\n",
            "   creating: Bigdata_hw2_datasets/q1/\n",
            "  inflating: Bigdata_hw2_datasets/q1/stream_data_dgim.txt  \n",
            "   creating: Bigdata_hw2_datasets/q2/\n",
            "  inflating: Bigdata_hw2_datasets/q2/games.csv  \n",
            "  inflating: Bigdata_hw2_datasets/q2/ratings.csv  \n",
            "   creating: Bigdata_hw2_datasets/q3/\n",
            "  inflating: Bigdata_hw2_datasets/q3/c1.txt  \n",
            "  inflating: Bigdata_hw2_datasets/q3/c2.txt  \n",
            "  inflating: Bigdata_hw2_datasets/q3/data.txt  \n"
          ]
        }
      ]
    },
    {
      "cell_type": "code",
      "source": [
        "dataset = [int(x) for x in  open(\"/content/Bigdata_hw2_datasets/q1/stream_data_dgim.txt\").readlines()[0].split(\"\\t\")[:-1]]"
      ],
      "metadata": {
        "id": "IoY3WW-XxS2_"
      },
      "execution_count": 3,
      "outputs": []
    },
    {
      "cell_type": "code",
      "source": [
        "len(dataset)"
      ],
      "metadata": {
        "colab": {
          "base_uri": "https://localhost:8080/"
        },
        "id": "ikYqbVGB0f6S",
        "outputId": "70747b17-9bcd-4c97-a732-8d3895f6e51f"
      },
      "execution_count": 4,
      "outputs": [
        {
          "output_type": "execute_result",
          "data": {
            "text/plain": [
              "40000"
            ]
          },
          "metadata": {},
          "execution_count": 4
        }
      ]
    },
    {
      "cell_type": "markdown",
      "source": [
        "# DGIM"
      ],
      "metadata": {
        "id": "vJ-CedmAyNfq"
      }
    },
    {
      "cell_type": "code",
      "source": [
        "class Bucket():\n",
        "  def __init__(self, size, start, end):\n",
        "    self.size = size\n",
        "    self.start = start\n",
        "    self.end = end\n",
        "\n",
        "  @staticmethod\n",
        "  def combine(bucket1, bucket2):\n",
        "    assert bucket1.size == bucket2.size\n",
        "\n",
        "    new_size = bucket1.size * 2\n",
        "    new_start = min(bucket1.start, bucket2.start)\n",
        "    new_end = max(bucket1.end, bucket2.end)\n",
        "\n",
        "    return Bucket(size=new_size, start=new_start, end=new_end)\n",
        "  \n",
        "  def is_size(self, size):\n",
        "    return self.size == size\n",
        "\n",
        "  def is_complete_out_window(self, window_size, counter):\n",
        "    return self.end + window_size <= counter \n",
        "\n",
        "  def is_partial_out_window(self, window_size, counter):\n",
        "    return self.start + window_size <= counter\n",
        "\n",
        "  def __str__(self):\n",
        "    return f\"start = {self.start}, end = {self.end}, size = {self.size}\""
      ],
      "metadata": {
        "id": "LreW0XY81XbA"
      },
      "execution_count": 5,
      "outputs": []
    },
    {
      "cell_type": "code",
      "source": [
        "class DGIM():\n",
        "  def __init__(self, window_size):\n",
        "    self.window_size = window_size\n",
        "    self.dataset = dataset\n",
        "    self.counter = 0\n",
        "    self.buckets = deque()\n",
        "\n",
        "  def read(self, data):\n",
        "    self.counter += 1\n",
        "\n",
        "    if data == 0:\n",
        "      return\n",
        "\n",
        "    new_bucket = Bucket(size=1, start=self.counter, end=self.counter)\n",
        "    self.buckets.appendleft(new_bucket)\n",
        "    \n",
        "    self._combine_small_buckets()\n",
        "    self._remove_out_window_bucket()\n",
        "    \n",
        "  def _combine_small_buckets(self):\n",
        "    size = 1\n",
        "    check = 0\n",
        "\n",
        "    while(check+2 < len(self.buckets)):\n",
        "\n",
        "      bucket_0 = self.buckets[check+0]\n",
        "      bucket_1 = self.buckets[check+1]\n",
        "      bucket_2 = self.buckets[check+2]\n",
        "\n",
        "      if bucket_0.is_size(size) and bucket_1.is_size(size) and bucket_2.is_size(size):\n",
        "\n",
        "        tmp_list = []\n",
        "\n",
        "        for i in range(check+1):\n",
        "          tmp_list.append(self.buckets.popleft())\n",
        "\n",
        "        bucket_1 = self.buckets.popleft()\n",
        "        bucket_2 = self.buckets.popleft()\n",
        "\n",
        "        bucket_12 = Bucket.combine(bucket_1, bucket_2)\n",
        "        self.buckets.appendleft(bucket_12)\n",
        "\n",
        "        for i in range(check, -1, -1):\n",
        "          self.buckets.appendleft(tmp_list[i])\n",
        "        \n",
        "        check += 1\n",
        "        size *= 2\n",
        "\n",
        "      else:\n",
        "        break\n",
        "\n",
        "  def _remove_out_window_bucket(self):\n",
        "    if self.buckets[-1].is_complete_out_window(self.window_size, self.counter):\n",
        "      self.buckets.pop()\n",
        "\n",
        "  def predict(self):\n",
        "    output = 0\n",
        "\n",
        "    for i in range(len(self.buckets)-1):\n",
        "      output += self.buckets[i].size\n",
        "\n",
        "    if self.buckets[-1].is_partial_out_window(self.window_size, self.counter):\n",
        "      output += 0.5 * self.buckets[-1].size\n",
        "    else:\n",
        "      output += self.buckets[-1].size\n",
        "\n",
        "    return int(output)\n",
        "\n",
        "  def predict_partial(self, partial_size):\n",
        "    output = 0\n",
        "\n",
        "    for i in range(len(self.buckets)):\n",
        "      if self.buckets[i].is_partial_out_window(partial_size, self.counter):\n",
        "        output += 0.5 * self.buckets[i].size\n",
        "        break\n",
        "      else:\n",
        "        output += self.buckets[i].size\n",
        "\n",
        "    return int(output)\n",
        "\n",
        "  def visualize(self):\n",
        "    print(f\"Window Size = {self.window_size}\")\n",
        "    print(f\"Counter = {self.counter}\")\n",
        "    print(f\"Buckets = \")\n",
        "    for i in range(len(self.buckets)):\n",
        "      print(self.buckets[i])"
      ],
      "metadata": {
        "id": "Iki3LsN-xp3J"
      },
      "execution_count": 6,
      "outputs": []
    },
    {
      "cell_type": "code",
      "source": [
        "dgim = DGIM(window_size=1000)\n",
        "\n",
        "for data in dataset:\n",
        "  dgim.read(data)\n",
        "\n",
        "dgim.visualize()\n",
        "\n",
        "print(f\"\\nNumber 1 in the last 1000 bits = {dgim.predict()}\")\n",
        "print(f\"Number 1 in the last 500 bits = {dgim.predict_partial(500)}\")\n",
        "print(f\"Number 1 in the last 200 bits = {dgim.predict_partial(200)}\")"
      ],
      "metadata": {
        "colab": {
          "base_uri": "https://localhost:8080/"
        },
        "id": "Q3VdnzyFprJZ",
        "outputId": "445b0b7d-1429-453a-957d-4320d792100f"
      },
      "execution_count": 7,
      "outputs": [
        {
          "output_type": "stream",
          "name": "stdout",
          "text": [
            "Window Size = 1000\n",
            "Counter = 40000\n",
            "Buckets = \n",
            "start = 39999, end = 39999, size = 1\n",
            "start = 39995, end = 39995, size = 1\n",
            "start = 39990, end = 39993, size = 2\n",
            "start = 39982, end = 39988, size = 4\n",
            "start = 39970, end = 39981, size = 4\n",
            "start = 39945, end = 39969, size = 8\n",
            "start = 39921, end = 39938, size = 8\n",
            "start = 39885, end = 39920, size = 16\n",
            "start = 39845, end = 39884, size = 16\n",
            "start = 39757, end = 39844, size = 32\n",
            "start = 39669, end = 39756, size = 32\n",
            "start = 39504, end = 39668, size = 64\n",
            "start = 39359, end = 39502, size = 64\n",
            "start = 39025, end = 39354, size = 128\n",
            "start = 38391, end = 39024, size = 256\n",
            "\n",
            "Number 1 in the last 1000 bits = 508\n",
            "Number 1 in the last 500 bits = 220\n",
            "Number 1 in the last 200 bits = 76\n"
          ]
        }
      ]
    },
    {
      "cell_type": "markdown",
      "source": [
        "# ExactCounter"
      ],
      "metadata": {
        "id": "1nPWYRCz_U4C"
      }
    },
    {
      "cell_type": "code",
      "source": [
        "class ExactCounter():\n",
        "  def __init__(self, window_size):\n",
        "    self.window_size = window_size\n",
        "    self.window = deque()\n",
        "\n",
        "  def read(self, data):\n",
        "    if len(self.window) == self.window_size:\n",
        "      self.window.popleft()\n",
        "\n",
        "    self.window.append(data)\n",
        "  \n",
        "  def predict(self):\n",
        "    output = 0\n",
        "    for i in range(len(self.window)):\n",
        "      if self.window[i] == 1:\n",
        "        output += 1\n",
        "\n",
        "    return output\n",
        "\n",
        "  def predict_partial(self, partial_size):\n",
        "    output = 0\n",
        "    for i in range(min(partial_size, len(self.window))):\n",
        "      if self.window[len(self.window)-1-i] == 1:\n",
        "        output += 1\n",
        "    \n",
        "    return output"
      ],
      "metadata": {
        "id": "6GXwnjYrp-sj"
      },
      "execution_count": 14,
      "outputs": []
    },
    {
      "cell_type": "code",
      "source": [
        "exact_counter = ExactCounter(window_size=1000)\n",
        "\n",
        "for data in dataset:\n",
        "  exact_counter.read(data)\n",
        "\n",
        "print(f\"Number 1 in the last 1000 bits = {exact_counter.predict()}\")\n",
        "print(f\"Number 1 in the last 500 bits = {exact_counter.predict_partial(500)}\")\n",
        "print(f\"Number 1 in the last 200 bits = {exact_counter.predict_partial(200)}\")"
      ],
      "metadata": {
        "colab": {
          "base_uri": "https://localhost:8080/"
        },
        "id": "_gE_p1Os_Wly",
        "outputId": "4a5fbaa1-c38b-4a51-bb69-04229058c90d"
      },
      "execution_count": 15,
      "outputs": [
        {
          "output_type": "stream",
          "name": "stdout",
          "text": [
            "Number 1 in the last 1000 bits = 391\n",
            "Number 1 in the last 500 bits = 190\n",
            "Number 1 in the last 200 bits = 77\n"
          ]
        }
      ]
    },
    {
      "cell_type": "markdown",
      "source": [
        "# Analysis"
      ],
      "metadata": {
        "id": "mx5S43rDAzjB"
      }
    },
    {
      "cell_type": "markdown",
      "source": [
        "## Main Dataset"
      ],
      "metadata": {
        "id": "G_4QgLwjA_lR"
      }
    },
    {
      "cell_type": "code",
      "source": [
        "dgim = DGIM(window_size=1000)\n",
        "\n",
        "start_time = time.time()\n",
        "for data in dataset:\n",
        "  dgim.read(data)\n",
        "end_time = time.time()\n",
        "\n",
        "dgim_read_time = end_time - start_time\n",
        "\n",
        "start_time = time.time()\n",
        "dgim_predict = dgim.predict()\n",
        "end_time = time.time()\n",
        "\n",
        "dgim_predict_time = end_time - start_time\n",
        "\n",
        "exact_counter = ExactCounter(window_size=1000)\n",
        "\n",
        "start_time = time.time()\n",
        "for data in dataset:\n",
        "  exact_counter.read(data)\n",
        "end_time = time.time()\n",
        "\n",
        "exact_read_time = end_time - start_time\n",
        "\n",
        "start_time = time.time()\n",
        "exact_count = exact_counter.predict()\n",
        "end_time = time.time()\n",
        "\n",
        "exact_count_time = end_time - start_time"
      ],
      "metadata": {
        "id": "DnzU_r1k_fWR"
      },
      "execution_count": null,
      "outputs": []
    },
    {
      "cell_type": "code",
      "source": [
        "print(f\"Dgim Reading Time = {round(dgim_read_time*1000*1000/len(dataset), 3)} us | ExactCounter Reading Time = {round(exact_read_time*1000*1000/len(dataset), 3)} us\")\n",
        "print(f\"Dgim Prediction Time = {round(dgim_predict_time*1000, 3)} ms | ExactCounter Counter Time = {round(exact_count_time*1000, 3)} ms\")\n",
        "print(f\"Dgim Prediction = {dgim_predict} | Exact Count = {exact_count}\")"
      ],
      "metadata": {
        "colab": {
          "base_uri": "https://localhost:8080/"
        },
        "id": "t4lY5D5WBhJj",
        "outputId": "f0a0cebd-addf-409d-dec1-f06d4766f553"
      },
      "execution_count": null,
      "outputs": [
        {
          "output_type": "stream",
          "name": "stdout",
          "text": [
            "Dgim Reading Time = 2.803 us | ExactCounter Reading Time = 0.477 us\n",
            "Dgim Prediction Time = 0.046 ms | ExactCounter Counter Time = 0.156 ms\n",
            "Dgim Prediction = 508 | Exact Count = 391\n"
          ]
        }
      ]
    },
    {
      "cell_type": "markdown",
      "source": [
        "## Auxiliary Datasets"
      ],
      "metadata": {
        "id": "zsVxO18TCjAa"
      }
    },
    {
      "cell_type": "code",
      "source": [
        "dataset_normal = list(np.random.choice([0, 1], size=(1000*1000, ) , p=[1/2, 1/2]))\n",
        "dataset_more_one = list(np.random.choice([0, 1], size=(1000*1000, ) , p=[1/4, 3/4]))\n",
        "dataset_more_zero = list(np.random.choice([0, 1], size=(1000*1000, ) , p=[3/4, 1/4]))\n",
        "\n",
        "auxiliary_datasets = [dataset_normal, dataset_more_one, dataset_more_zero]"
      ],
      "metadata": {
        "id": "rc0Ko24EDvQg"
      },
      "execution_count": null,
      "outputs": []
    },
    {
      "cell_type": "code",
      "source": [
        "dataset_names = [\"Normal\", \"More One\", \"More Zero\"]\n",
        "for i, auxiliary_dataset in enumerate(auxiliary_datasets):\n",
        "\n",
        "  dgim = DGIM(window_size=100*1000)\n",
        "\n",
        "  start_time = time.time()\n",
        "  for data in auxiliary_dataset:\n",
        "    dgim.read(data)\n",
        "  end_time = time.time()\n",
        "\n",
        "  dgim_read_time = end_time - start_time\n",
        "\n",
        "  start_time = time.time()\n",
        "  dgim_predict = dgim.predict()\n",
        "  end_time = time.time()\n",
        "\n",
        "  dgim_predict_time = end_time - start_time\n",
        "\n",
        "  exact_counter = ExactCounter(window_size=100*1000)\n",
        "\n",
        "  start_time = time.time()\n",
        "  for data in auxiliary_dataset:\n",
        "    exact_counter.read(data)\n",
        "  end_time = time.time()\n",
        "\n",
        "  exact_read_time = end_time - start_time\n",
        "\n",
        "  start_time = time.time()\n",
        "  exact_count = exact_counter.predict()\n",
        "  end_time = time.time()\n",
        "\n",
        "  exact_count_time = end_time - start_time\n",
        "\n",
        "  print(f\"Dataset = {dataset_names[i]}\")\n",
        "  print(f\"Dgim Reading Time = {round(dgim_read_time*1000*1000/len(auxiliary_dataset), 3)} us | ExactCounter Reading Time = {round(exact_read_time*1000*1000/len(auxiliary_dataset), 3)} us\")\n",
        "  print(f\"Dgim Prediction Time = {round(dgim_predict_time*1000, 3)} ms | ExactCounter Counter Time = {round(exact_count_time*1000, 3)} ms\")\n",
        "  print(f\"Dgim Prediction = {dgim_predict} | Exact Count = {exact_count}\")\n",
        "  print(\"==========\")"
      ],
      "metadata": {
        "colab": {
          "base_uri": "https://localhost:8080/"
        },
        "id": "dX6dYbZaDrWi",
        "outputId": "c37953cf-5b6d-4d01-d432-821e7962e885"
      },
      "execution_count": null,
      "outputs": [
        {
          "output_type": "stream",
          "name": "stdout",
          "text": [
            "Dataset = Normal\n",
            "Dgim Reading Time = 3.943 us | ExactCounter Reading Time = 0.448 us\n",
            "Dgim Prediction Time = 0.021 ms | ExactCounter Counter Time = 227.001 ms\n",
            "Dgim Prediction = 57265 | Exact Count = 50253\n",
            "==========\n",
            "Dataset = More One\n",
            "Dgim Reading Time = 5.279 us | ExactCounter Reading Time = 0.443 us\n",
            "Dgim Prediction Time = 0.022 ms | ExactCounter Counter Time = 233.156 ms\n",
            "Dgim Prediction = 78706 | Exact Count = 75069\n",
            "==========\n",
            "Dataset = More Zero\n",
            "Dgim Reading Time = 2.028 us | ExactCounter Reading Time = 0.458 us\n",
            "Dgim Prediction Time = 0.019 ms | ExactCounter Counter Time = 233.382 ms\n",
            "Dgim Prediction = 29038 | Exact Count = 24653\n",
            "==========\n"
          ]
        }
      ]
    },
    {
      "cell_type": "code",
      "source": [
        ""
      ],
      "metadata": {
        "id": "JW3fm3yRFphM"
      },
      "execution_count": null,
      "outputs": []
    }
  ]
}