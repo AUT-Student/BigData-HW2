{
  "nbformat": 4,
  "nbformat_minor": 0,
  "metadata": {
    "colab": {
      "name": "BigData_HW2_Q2.ipynb",
      "provenance": [],
      "authorship_tag": "ABX9TyOEraa9covL4/i6TAPK/gp1",
      "include_colab_link": true
    },
    "kernelspec": {
      "name": "python3",
      "display_name": "Python 3"
    },
    "language_info": {
      "name": "python"
    }
  },
  "cells": [
    {
      "cell_type": "markdown",
      "metadata": {
        "id": "view-in-github",
        "colab_type": "text"
      },
      "source": [
        "<a href=\"https://colab.research.google.com/github/AUT-Student/BigData-HW2/blob/main/BigData_HW2_Q2.ipynb\" target=\"_parent\"><img src=\"https://colab.research.google.com/assets/colab-badge.svg\" alt=\"Open In Colab\"/></a>"
      ]
    },
    {
      "cell_type": "markdown",
      "source": [
        "# Libraries"
      ],
      "metadata": {
        "id": "HfxOh6s7ZhoQ"
      }
    },
    {
      "cell_type": "code",
      "execution_count": 1,
      "metadata": {
        "id": "TLspPxStZaBr"
      },
      "outputs": [],
      "source": [
        "import pandas as pd"
      ]
    },
    {
      "cell_type": "markdown",
      "source": [
        "# Dataset"
      ],
      "metadata": {
        "id": "Vkhhn-j8ZjnA"
      }
    },
    {
      "cell_type": "code",
      "source": [
        "!gdown 1PdXgb4w0gtsocKHmeGQ_zPfb3VbW9YhL\n",
        "!unzip /content/Bigdata_hw2_datasets.zip"
      ],
      "metadata": {
        "colab": {
          "base_uri": "https://localhost:8080/"
        },
        "id": "U-ok8QfIZkUD",
        "outputId": "9bf12951-e511-456a-aa3e-bf0c224fda8a"
      },
      "execution_count": 2,
      "outputs": [
        {
          "output_type": "stream",
          "name": "stdout",
          "text": [
            "Downloading...\n",
            "From: https://drive.google.com/uc?id=1PdXgb4w0gtsocKHmeGQ_zPfb3VbW9YhL\n",
            "To: /content/Bigdata_hw2_datasets.zip\n",
            "\r  0% 0.00/6.28M [00:00<?, ?B/s]\r100% 6.28M/6.28M [00:00<00:00, 199MB/s]\n",
            "Archive:  /content/Bigdata_hw2_datasets.zip\n",
            "   creating: Bigdata_hw2_datasets/\n",
            "   creating: Bigdata_hw2_datasets/q1/\n",
            "  inflating: Bigdata_hw2_datasets/q1/stream_data_dgim.txt  \n",
            "   creating: Bigdata_hw2_datasets/q2/\n",
            "  inflating: Bigdata_hw2_datasets/q2/games.csv  \n",
            "  inflating: Bigdata_hw2_datasets/q2/ratings.csv  \n",
            "   creating: Bigdata_hw2_datasets/q3/\n",
            "  inflating: Bigdata_hw2_datasets/q3/c1.txt  \n",
            "  inflating: Bigdata_hw2_datasets/q3/c2.txt  \n",
            "  inflating: Bigdata_hw2_datasets/q3/data.txt  \n"
          ]
        }
      ]
    },
    {
      "cell_type": "code",
      "source": [
        "games_dataset = pd.read_csv(\"/content/Bigdata_hw2_datasets/q2/games.csv\")"
      ],
      "metadata": {
        "id": "Cifj3psZZpQw"
      },
      "execution_count": 4,
      "outputs": []
    },
    {
      "cell_type": "code",
      "source": [
        "games_dataset = games_dataset[games_dataset[\"game_id\"].notna()]"
      ],
      "metadata": {
        "id": "eFLILy8oaCjQ"
      },
      "execution_count": 20,
      "outputs": []
    },
    {
      "cell_type": "code",
      "source": [
        "ratings_dataset = pd.read_csv(\"/content/Bigdata_hw2_datasets/q2/ratings.csv\")"
      ],
      "metadata": {
        "id": "KMeMANykZvaw"
      },
      "execution_count": 6,
      "outputs": []
    }
  ]
}