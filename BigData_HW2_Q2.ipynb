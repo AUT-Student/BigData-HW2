{
  "nbformat": 4,
  "nbformat_minor": 0,
  "metadata": {
    "colab": {
      "name": "BigData_HW2_Q2.ipynb",
      "provenance": [],
      "collapsed_sections": [],
      "toc_visible": true,
      "authorship_tag": "ABX9TyO/1rMJ3LF3D0wsHoXsPsEF",
      "include_colab_link": true
    },
    "kernelspec": {
      "name": "python3",
      "display_name": "Python 3"
    },
    "language_info": {
      "name": "python"
    }
  },
  "cells": [
    {
      "cell_type": "markdown",
      "metadata": {
        "id": "view-in-github",
        "colab_type": "text"
      },
      "source": [
        "<a href=\"https://colab.research.google.com/github/AUT-Student/BigData-HW2/blob/main/BigData_HW2_Q2.ipynb\" target=\"_parent\"><img src=\"https://colab.research.google.com/assets/colab-badge.svg\" alt=\"Open In Colab\"/></a>"
      ]
    },
    {
      "cell_type": "markdown",
      "source": [
        "<center><b>In the name of God</b></center>\n",
        "\n",
        "<b>Course</b>: ‌Big Data\n",
        "<br>\n",
        "<b>Description:</b> HomeWork 1 | Question 2\n",
        "<br>\n",
        "<b>Developer</b>: Alireza Mazochi (400131075)"
      ],
      "metadata": {
        "id": "XsxtZKCT-tb7"
      }
    },
    {
      "cell_type": "markdown",
      "source": [
        "# Libraries"
      ],
      "metadata": {
        "id": "HfxOh6s7ZhoQ"
      }
    },
    {
      "cell_type": "code",
      "execution_count": 1,
      "metadata": {
        "id": "TLspPxStZaBr"
      },
      "outputs": [],
      "source": [
        "import pandas as pd\n",
        "import numpy as np"
      ]
    },
    {
      "cell_type": "markdown",
      "source": [
        "# Dataset"
      ],
      "metadata": {
        "id": "Vkhhn-j8ZjnA"
      }
    },
    {
      "cell_type": "code",
      "source": [
        "!gdown 1PdXgb4w0gtsocKHmeGQ_zPfb3VbW9YhL\n",
        "!unzip /content/Bigdata_hw2_datasets.zip"
      ],
      "metadata": {
        "colab": {
          "base_uri": "https://localhost:8080/"
        },
        "id": "U-ok8QfIZkUD",
        "outputId": "678cdeff-8ad6-42b1-fc60-4dff196c3f1a"
      },
      "execution_count": 2,
      "outputs": [
        {
          "output_type": "stream",
          "name": "stdout",
          "text": [
            "Downloading...\n",
            "From: https://drive.google.com/uc?id=1PdXgb4w0gtsocKHmeGQ_zPfb3VbW9YhL\n",
            "To: /content/Bigdata_hw2_datasets.zip\n",
            "\r  0% 0.00/6.28M [00:00<?, ?B/s]\r 75% 4.72M/6.28M [00:00<00:00, 21.9MB/s]\r100% 6.28M/6.28M [00:00<00:00, 28.4MB/s]\n",
            "Archive:  /content/Bigdata_hw2_datasets.zip\n",
            "   creating: Bigdata_hw2_datasets/\n",
            "   creating: Bigdata_hw2_datasets/q1/\n",
            "  inflating: Bigdata_hw2_datasets/q1/stream_data_dgim.txt  \n",
            "   creating: Bigdata_hw2_datasets/q2/\n",
            "  inflating: Bigdata_hw2_datasets/q2/games.csv  \n",
            "  inflating: Bigdata_hw2_datasets/q2/ratings.csv  \n",
            "   creating: Bigdata_hw2_datasets/q3/\n",
            "  inflating: Bigdata_hw2_datasets/q3/c1.txt  \n",
            "  inflating: Bigdata_hw2_datasets/q3/c2.txt  \n",
            "  inflating: Bigdata_hw2_datasets/q3/data.txt  \n"
          ]
        }
      ]
    },
    {
      "cell_type": "code",
      "source": [
        "games_dataset = pd.read_csv(\"/content/Bigdata_hw2_datasets/q2/games.csv\")"
      ],
      "metadata": {
        "id": "Cifj3psZZpQw"
      },
      "execution_count": 3,
      "outputs": []
    },
    {
      "cell_type": "code",
      "source": [
        "games_dataset = games_dataset[games_dataset[\"game_id\"].notna()]"
      ],
      "metadata": {
        "id": "eFLILy8oaCjQ"
      },
      "execution_count": 4,
      "outputs": []
    },
    {
      "cell_type": "code",
      "source": [
        "ratings_dataset = pd.read_csv(\"/content/Bigdata_hw2_datasets/q2/ratings.csv\")"
      ],
      "metadata": {
        "id": "KMeMANykZvaw"
      },
      "execution_count": 5,
      "outputs": []
    },
    {
      "cell_type": "code",
      "source": [
        "ratings_dataset = ratings_dataset.drop_duplicates([\"user_id\", \"game_id\"], keep=\"last\")"
      ],
      "metadata": {
        "id": "cikRlX--zvDS"
      },
      "execution_count": 6,
      "outputs": []
    },
    {
      "cell_type": "markdown",
      "source": [
        "# User-User"
      ],
      "metadata": {
        "id": "o4mDBZ96sJef"
      }
    },
    {
      "cell_type": "markdown",
      "source": [
        "## Auxililary Functions"
      ],
      "metadata": {
        "id": "IKUjqlD8bAaO"
      }
    },
    {
      "cell_type": "code",
      "source": [
        "def rated_item_list(user_id):\n",
        "  return ratings_dataset[ratings_dataset[\"user_id\"]==user_id][\"game_id\"].values"
      ],
      "metadata": {
        "id": "cC8RW2iemAVK"
      },
      "execution_count": null,
      "outputs": []
    },
    {
      "cell_type": "code",
      "source": [
        "def cosine_similarity(user_x, user_y):\n",
        "  if user_x == user_y:\n",
        "    return 1\n",
        "\n",
        "  user_x_rates = ratings_dataset[ratings_dataset[\"user_id\"]==user_x][\"rating\"].values\n",
        "  user_y_rates = ratings_dataset[ratings_dataset[\"user_id\"]==user_y][\"rating\"].values\n",
        "\n",
        "  user_x_norm = sum([rate**2 for rate in user_x_rates]) ** 0.5 \n",
        "  user_y_norm = sum([rate**2 for rate in user_y_rates]) ** 0.5 \n",
        "\n",
        "  common_item_list = np.intersect1d(rated_item_list(user_x), rated_item_list(user_y))\n",
        "\n",
        "  minimal_ratings_dataset = ratings_dataset[ratings_dataset[\"game_id\"].isin(common_item_list) & ratings_dataset[\"user_id\"].isin([user_x, user_y])]\n",
        "\n",
        "  user_x_y_dot = 0\n",
        "  for item_id in common_item_list:\n",
        "    rate_1, rate_2 = minimal_ratings_dataset[minimal_ratings_dataset[\"game_id\"]==item_id][\"rating\"].values\n",
        "    user_x_y_dot += rate_1 * rate_2\n",
        "\n",
        "  return user_x_y_dot / (user_x_norm * user_y_norm)"
      ],
      "metadata": {
        "id": "KEjQ7uVbdsNN"
      },
      "execution_count": null,
      "outputs": []
    },
    {
      "cell_type": "code",
      "source": [
        "def most_similar_users(user):\n",
        "  all_user_id_list = set(ratings_dataset[\"user_id\"].values)\n",
        "  \n",
        "  similarity_scores = []\n",
        "\n",
        "  for i, user_id in enumerate(all_user_id_list):\n",
        "    if i%2000==0: print(int(i*100/len(all_user_id_list)), \"%\")\n",
        "    if user_id == user: continue\n",
        "\n",
        "    score = cosine_similarity(user, user_id)\n",
        "    similarity_scores.append({\"score\": score, \"user-id\": user_id})\n",
        "\n",
        "  similarity_scores = sorted(similarity_scores, key=lambda x: -x[\"score\"])\n",
        "  return similarity_scores"
      ],
      "metadata": {
        "id": "iGTnwqU3pkuq"
      },
      "execution_count": null,
      "outputs": []
    },
    {
      "cell_type": "markdown",
      "source": [
        "## Prediction"
      ],
      "metadata": {
        "id": "591hUOAA7WQG"
      }
    },
    {
      "cell_type": "code",
      "source": [
        "def predict_rate(similar_users, item_id, number):\n",
        "  minimal_ratings_dataset = ratings_dataset[ratings_dataset[\"game_id\"]==item_id]\n",
        "\n",
        "  rater_user_id_list = minimal_ratings_dataset[\"user_id\"].values\n",
        "\n",
        "  sum_score = 0\n",
        "  sum_rate_score = 0\n",
        "  number_users = 0 \n",
        "\n",
        "  for record in similar_users:\n",
        "    user_id = record[\"user-id\"]\n",
        "    score = record[\"score\"]\n",
        "    if user_id in rater_user_id_list:\n",
        "      number_users += 1\n",
        "      rate = minimal_ratings_dataset[minimal_ratings_dataset[\"user_id\"]==user_id][\"rating\"].values[0]\n",
        "      sum_rate_score += score * rate\n",
        "      sum_score += score\n",
        "            \n",
        "      if number_users == number:\n",
        "        break\n",
        "\n",
        "  if sum_score==0:\n",
        "    return None\n",
        "\n",
        "  rate = sum_rate_score / sum_score\n",
        "  \n",
        "  rate = round(rate, 3)\n",
        "\n",
        "  return rate"
      ],
      "metadata": {
        "id": "7N5ZcNKJ7kEw"
      },
      "execution_count": null,
      "outputs": []
    },
    {
      "cell_type": "markdown",
      "source": [
        "## Recommendation"
      ],
      "metadata": {
        "id": "IB-HHce17big"
      }
    },
    {
      "cell_type": "code",
      "source": [
        "def recommend(user_id, number_recommendation):\n",
        "  similar_users = most_similar_users(user_id)\n",
        "\n",
        "  exist_rate = ratings_dataset[ratings_dataset[\"user_id\"] == user_id][\"game_id\"].values\n",
        "  \n",
        "  rate_list = []\n",
        "  for item_id in range(1, 10001):\n",
        "    if item_id%1000==0: print(int(item_id/100), \"%\")\n",
        "    if item_id in exist_rate: continue\n",
        "\n",
        "    rate = predict_rate(similar_users, item_id, 10)\n",
        "\n",
        "    if rate is not None:\n",
        "      rate_list.append({\"rate\": rate, \"item-id\": item_id})\n",
        "\n",
        "  rate_list = sorted(rate_list, key=lambda x: (-x[\"rate\"], x[\"item-id\"]))[:number_recommendation]\n",
        "\n",
        "  output_list = []\n",
        "\n",
        "  for record in rate_list:\n",
        "    item_id = record[\"item-id\"]\n",
        "    rate = record[\"rate\"]\n",
        "\n",
        "    name = games_dataset[games_dataset[\"game_id\"] == item_id][\"name\"].values[0]\n",
        "\n",
        "    output_list.append({\"name\": name, \"game_id\": item_id, \"rate\": rate})\n",
        "\n",
        "  return output_list"
      ],
      "metadata": {
        "id": "yW5aRJsF_swP"
      },
      "execution_count": null,
      "outputs": []
    },
    {
      "cell_type": "markdown",
      "source": [
        "## Results"
      ],
      "metadata": {
        "id": "mDKRvfy_7jH6"
      }
    },
    {
      "cell_type": "code",
      "source": [
        "recommend(user_id=5461, number_recommendation=5)"
      ],
      "metadata": {
        "colab": {
          "base_uri": "https://localhost:8080/"
        },
        "id": "VLF8h11d-lO1",
        "outputId": "90c06525-be96-4b2d-e630-9e485edf41d0"
      },
      "execution_count": null,
      "outputs": [
        {
          "output_type": "stream",
          "name": "stdout",
          "text": [
            "0 %\n",
            "3 %\n",
            "7 %\n",
            "11 %\n",
            "14 %\n",
            "18 %\n",
            "22 %\n",
            "26 %\n",
            "29 %\n",
            "33 %\n",
            "37 %\n",
            "41 %\n",
            "44 %\n",
            "48 %\n",
            "52 %\n",
            "56 %\n",
            "59 %\n",
            "63 %\n",
            "67 %\n",
            "71 %\n",
            "74 %\n",
            "78 %\n",
            "82 %\n",
            "86 %\n",
            "89 %\n",
            "93 %\n",
            "97 %\n",
            "10 %\n",
            "20 %\n",
            "30 %\n",
            "40 %\n",
            "50 %\n",
            "60 %\n",
            "70 %\n",
            "90 %\n",
            "100 %\n"
          ]
        },
        {
          "output_type": "execute_result",
          "data": {
            "text/plain": [
              "[{'game_id': 143, 'name': 'Forza Horizon 4', 'rate': 5.0},\n",
              " {'game_id': 532, 'name': 'DUSK', 'rate': 5.0},\n",
              " {'game_id': 803, 'name': 'NASCAR 2005: Chase for the Cup', 'rate': 5.0},\n",
              " {'game_id': 1527, 'name': 'FTL: Faster Than Light', 'rate': 5.0},\n",
              " {'game_id': 1967, 'name': 'The Book of Unwritten Tales', 'rate': 5.0}]"
            ]
          },
          "metadata": {},
          "execution_count": 17
        }
      ]
    },
    {
      "cell_type": "code",
      "source": [
        "recommend(user_id=10140, number_recommendation=5)"
      ],
      "metadata": {
        "colab": {
          "base_uri": "https://localhost:8080/"
        },
        "id": "s63QV9683AKP",
        "outputId": "bbe07a0f-a1a6-4d24-9a89-d261a6b30cdd"
      },
      "execution_count": null,
      "outputs": [
        {
          "output_type": "stream",
          "name": "stdout",
          "text": [
            "0 %\n",
            "3 %\n",
            "7 %\n",
            "11 %\n",
            "14 %\n",
            "18 %\n",
            "22 %\n",
            "26 %\n",
            "29 %\n",
            "33 %\n",
            "37 %\n",
            "41 %\n",
            "44 %\n",
            "48 %\n",
            "52 %\n",
            "56 %\n",
            "59 %\n",
            "63 %\n",
            "67 %\n",
            "71 %\n",
            "74 %\n",
            "78 %\n",
            "82 %\n",
            "86 %\n",
            "89 %\n",
            "93 %\n",
            "97 %\n",
            "10 %\n",
            "20 %\n",
            "30 %\n",
            "40 %\n",
            "50 %\n",
            "60 %\n",
            "70 %\n",
            "80 %\n",
            "90 %\n",
            "100 %\n"
          ]
        },
        {
          "output_type": "execute_result",
          "data": {
            "text/plain": [
              "[{'game_id': 143, 'name': 'Forza Horizon 4', 'rate': 5.0},\n",
              " {'game_id': 532, 'name': 'DUSK', 'rate': 5.0},\n",
              " {'game_id': 803, 'name': 'NASCAR 2005: Chase for the Cup', 'rate': 5.0},\n",
              " {'game_id': 1010, 'name': 'Katamari Damacy', 'rate': 5.0},\n",
              " {'game_id': 1349,\n",
              "  'name': 'Shantae: Half-Genie Hero - Ultimate Edition',\n",
              "  'rate': 5.0}]"
            ]
          },
          "metadata": {},
          "execution_count": 18
        }
      ]
    },
    {
      "cell_type": "markdown",
      "source": [
        "# Item-Item"
      ],
      "metadata": {
        "id": "THWz4Nu2iBlN"
      }
    },
    {
      "cell_type": "markdown",
      "source": [
        "## Create Dictionaries"
      ],
      "metadata": {
        "id": "VZrU1qVMtjnZ"
      }
    },
    {
      "cell_type": "code",
      "source": [
        "item_rater_dictionary = {}\n",
        "item_rate_dictionary = {}\n",
        "item_norm_dictionary = {}\n",
        "\n",
        "for item_id in range(1,10001):\n",
        "  if item_id%1000==0: print(f\"{item_id/100}%\")\n",
        "\n",
        "  tmp_dataset = ratings_dataset[ratings_dataset[\"game_id\"]==item_id]\n",
        "\n",
        "  ratings = tmp_dataset[\"rating\"].values\n",
        "  \n",
        "  item_norm = sum([rate**2 for rate in ratings]) ** 0.5 \n",
        "  item_norm_dictionary[item_id] = item_norm\n",
        "\n",
        "  raters = tmp_dataset[\"user_id\"].values\n",
        "  item_rater_dictionary[item_id] = raters \n",
        "\n",
        "  item_rates = {}\n",
        "  for user_id in raters:\n",
        "    item_rates[user_id] = tmp_dataset[tmp_dataset[\"user_id\"]==user_id][\"rating\"].values[0] \n",
        "\n",
        "  item_rate_dictionary[item_id] = item_rates"
      ],
      "metadata": {
        "colab": {
          "base_uri": "https://localhost:8080/"
        },
        "id": "GbGKo1Rlnsxl",
        "outputId": "6d6cb3ff-075c-4cd1-cacf-f6186f343fb4"
      },
      "execution_count": 34,
      "outputs": [
        {
          "output_type": "stream",
          "name": "stdout",
          "text": [
            "10.0%\n",
            "20.0%\n",
            "30.0%\n",
            "40.0%\n",
            "50.0%\n",
            "60.0%\n",
            "70.0%\n",
            "80.0%\n",
            "90.0%\n",
            "100.0%\n"
          ]
        }
      ]
    },
    {
      "cell_type": "markdown",
      "source": [
        "## Auxililary Functions"
      ],
      "metadata": {
        "id": "2bILQvv1tnmC"
      }
    },
    {
      "cell_type": "code",
      "source": [
        "def cosine_similarity_item(item_x, item_y):\n",
        "  if item_x == item_y:\n",
        "    return 1\n",
        "\n",
        "  norm_x = item_norm_dictionary[item_x]\n",
        "  norm_y = item_norm_dictionary[item_y]\n",
        "\n",
        "  common_user_list = np.intersect1d(\n",
        "      item_rater_dictionary[item_x], item_rater_dictionary[item_y]\n",
        "  )\n",
        "\n",
        "  item_x_y_dot = 0\n",
        "  for user_id in common_user_list:\n",
        "    rate_1 = item_rate_dictionary[item_x][user_id]\n",
        "    rate_2 = item_rate_dictionary[item_y][user_id]\n",
        "    \n",
        "    item_x_y_dot += rate_1 * rate_2\n",
        "\n",
        "  return item_x_y_dot / (norm_x * norm_y)"
      ],
      "metadata": {
        "id": "PJU32aemi71e"
      },
      "execution_count": 35,
      "outputs": []
    },
    {
      "cell_type": "markdown",
      "source": [
        "## Recomendation"
      ],
      "metadata": {
        "id": "kS1eDwlztqw-"
      }
    },
    {
      "cell_type": "code",
      "source": [
        "def recommend_item(user_id, number_recommendation):\n",
        "  user_items_id = ratings_dataset[ratings_dataset[\"user_id\"]==user_id][\"game_id\"].values\n",
        "\n",
        "  predicted_rate_list = []\n",
        "  for condidate_item_id in range(1, 10001):\n",
        "    if condidate_item_id%1000==0: print(condidate_item_id/100)\n",
        "    if condidate_item_id in user_items_id: continue\n",
        "\n",
        "    condidate_score_rate = []  \n",
        "    for user_item_id in user_items_id:\n",
        "      score = cosine_similarity_item(condidate_item_id, user_item_id)\n",
        "      rate = item_rate_dictionary[user_item_id][user_id]\n",
        "      condidate_score_rate.append({\"score\": score, \"rate\": rate})\n",
        "\n",
        "    condidate_score_rate = sorted(condidate_score_rate, key=lambda x: -x[\"score\"])[:10]\n",
        "\n",
        "    sum_score = 0\n",
        "    sum_rate_score = 0\n",
        "    for item in condidate_score_rate:\n",
        "      score = item[\"score\"]\n",
        "      rate = item[\"rate\"]\n",
        "\n",
        "      sum_rate_score += score * rate\n",
        "      sum_score += score\n",
        "            \n",
        "    predicted_rate = sum_rate_score / sum_score\n",
        "    predicted_rate_list.append({\"rate\": predicted_rate, \"item-id\": condidate_item_id})\n",
        "\n",
        "\n",
        "  predicted_rate_list = sorted(predicted_rate_list, key=lambda x: (-x[\"rate\"], x[\"item-id\"]))[:number_recommendation]\n",
        "\n",
        "  output_list = []\n",
        "\n",
        "  for record in predicted_rate_list:\n",
        "    item_id = record[\"item-id\"]\n",
        "    rate = record[\"rate\"]\n",
        "\n",
        "    name = games_dataset[games_dataset[\"game_id\"] == item_id][\"name\"].values[0]\n",
        "\n",
        "    output_list.append({\"name\": name, \"game_id\": item_id, \"rate\": rate})\n",
        "\n",
        "  return output_list"
      ],
      "metadata": {
        "id": "vF7DP7U8icbl"
      },
      "execution_count": 56,
      "outputs": []
    },
    {
      "cell_type": "markdown",
      "source": [
        "## Results"
      ],
      "metadata": {
        "id": "CveVoIodyn1Y"
      }
    },
    {
      "cell_type": "code",
      "source": [
        "recommend_item(5461, 5)"
      ],
      "metadata": {
        "colab": {
          "base_uri": "https://localhost:8080/"
        },
        "id": "b7WA8DiSmAUV",
        "outputId": "134b8583-936f-4ff4-adb8-e0f26131c090"
      },
      "execution_count": 57,
      "outputs": [
        {
          "output_type": "stream",
          "name": "stdout",
          "text": [
            "10.0\n"
          ]
        },
        {
          "output_type": "stream",
          "name": "stderr",
          "text": [
            "/usr/local/lib/python3.7/dist-packages/ipykernel_launcher.py:26: RuntimeWarning: invalid value encountered in double_scalars\n"
          ]
        },
        {
          "output_type": "stream",
          "name": "stdout",
          "text": [
            "20.0\n",
            "30.0\n",
            "40.0\n",
            "50.0\n",
            "60.0\n",
            "70.0\n",
            "80.0\n",
            "90.0\n",
            "100.0\n"
          ]
        },
        {
          "output_type": "execute_result",
          "data": {
            "text/plain": [
              "[{'game_id': 1352, 'name': 'F1 2018', 'rate': 5.0},\n",
              " {'game_id': 184,\n",
              "  'name': \"Sid Meier's Alpha Centauri\",\n",
              "  'rate': 4.905536177685458},\n",
              " {'game_id': 161, 'name': 'Vagrant Story', 'rate': 4.889751746479591},\n",
              " {'game_id': 158, 'name': 'Forza Motorsport', 'rate': 4.888943107893666},\n",
              " {'game_id': 964, 'name': 'NHL 12', 'rate': 4.811117077816452}]"
            ]
          },
          "metadata": {},
          "execution_count": 57
        }
      ]
    },
    {
      "cell_type": "code",
      "source": [
        "recommend_item(10140, 5)"
      ],
      "metadata": {
        "colab": {
          "base_uri": "https://localhost:8080/"
        },
        "id": "B4XN1Oj8yL6S",
        "outputId": "e76cb974-643a-49fd-a496-db960dde714c"
      },
      "execution_count": 58,
      "outputs": [
        {
          "output_type": "stream",
          "name": "stdout",
          "text": [
            "10.0\n"
          ]
        },
        {
          "output_type": "stream",
          "name": "stderr",
          "text": [
            "/usr/local/lib/python3.7/dist-packages/ipykernel_launcher.py:26: RuntimeWarning: invalid value encountered in double_scalars\n"
          ]
        },
        {
          "output_type": "stream",
          "name": "stdout",
          "text": [
            "20.0\n",
            "30.0\n",
            "40.0\n",
            "50.0\n",
            "60.0\n",
            "70.0\n",
            "80.0\n",
            "90.0\n",
            "100.0\n"
          ]
        },
        {
          "output_type": "execute_result",
          "data": {
            "text/plain": [
              "[{'game_id': 185, 'name': 'Wave Race 64', 'rate': 3.9455071741670147},\n",
              " {'game_id': 673, 'name': 'Night in the Woods', 'rate': 3.9053010975924574},\n",
              " {'game_id': 3061,\n",
              "  'name': 'Wargame: AirLand Battle',\n",
              "  'rate': 3.833685818880154},\n",
              " {'game_id': 2681, 'name': 'Etrian Odyssey Nexus', 'rate': 3.8243616343253675},\n",
              " {'game_id': 1210, 'name': 'Assetto Corsa', 'rate': 3.8077678042517737}]"
            ]
          },
          "metadata": {},
          "execution_count": 58
        }
      ]
    }
  ]
}