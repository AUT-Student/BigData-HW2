{
  "nbformat": 4,
  "nbformat_minor": 0,
  "metadata": {
    "colab": {
      "name": "BigData_HW2_Q2.ipynb",
      "provenance": [],
      "collapsed_sections": [],
      "authorship_tag": "ABX9TyOVPAEUZOFZuz7P/lRB3qpW",
      "include_colab_link": true
    },
    "kernelspec": {
      "name": "python3",
      "display_name": "Python 3"
    },
    "language_info": {
      "name": "python"
    }
  },
  "cells": [
    {
      "cell_type": "markdown",
      "metadata": {
        "id": "view-in-github",
        "colab_type": "text"
      },
      "source": [
        "<a href=\"https://colab.research.google.com/github/AUT-Student/BigData-HW2/blob/main/BigData_HW2_Q2.ipynb\" target=\"_parent\"><img src=\"https://colab.research.google.com/assets/colab-badge.svg\" alt=\"Open In Colab\"/></a>"
      ]
    },
    {
      "cell_type": "markdown",
      "source": [
        "# Libraries"
      ],
      "metadata": {
        "id": "HfxOh6s7ZhoQ"
      }
    },
    {
      "cell_type": "code",
      "execution_count": 1,
      "metadata": {
        "id": "TLspPxStZaBr"
      },
      "outputs": [],
      "source": [
        "import pandas as pd\n",
        "import numpy as np"
      ]
    },
    {
      "cell_type": "markdown",
      "source": [
        "# Dataset"
      ],
      "metadata": {
        "id": "Vkhhn-j8ZjnA"
      }
    },
    {
      "cell_type": "code",
      "source": [
        "!gdown 1PdXgb4w0gtsocKHmeGQ_zPfb3VbW9YhL\n",
        "!unzip /content/Bigdata_hw2_datasets.zip"
      ],
      "metadata": {
        "colab": {
          "base_uri": "https://localhost:8080/"
        },
        "id": "U-ok8QfIZkUD",
        "outputId": "a703f7e7-b646-4128-fff9-2d8e80355362"
      },
      "execution_count": 2,
      "outputs": [
        {
          "output_type": "stream",
          "name": "stdout",
          "text": [
            "Downloading...\n",
            "From: https://drive.google.com/uc?id=1PdXgb4w0gtsocKHmeGQ_zPfb3VbW9YhL\n",
            "To: /content/Bigdata_hw2_datasets.zip\n",
            "\r  0% 0.00/6.28M [00:00<?, ?B/s]\r100% 6.28M/6.28M [00:00<00:00, 124MB/s]\n",
            "Archive:  /content/Bigdata_hw2_datasets.zip\n",
            "replace Bigdata_hw2_datasets/q1/stream_data_dgim.txt? [y]es, [n]o, [A]ll, [N]one, [r]ename: y\n",
            "  inflating: Bigdata_hw2_datasets/q1/stream_data_dgim.txt  \n",
            "replace Bigdata_hw2_datasets/q2/games.csv? [y]es, [n]o, [A]ll, [N]one, [r]ename: A\n",
            "  inflating: Bigdata_hw2_datasets/q2/games.csv  \n",
            "  inflating: Bigdata_hw2_datasets/q2/ratings.csv  \n",
            "  inflating: Bigdata_hw2_datasets/q3/c1.txt  \n",
            "  inflating: Bigdata_hw2_datasets/q3/c2.txt  \n",
            "  inflating: Bigdata_hw2_datasets/q3/data.txt  \n"
          ]
        }
      ]
    },
    {
      "cell_type": "code",
      "source": [
        "games_dataset = pd.read_csv(\"/content/Bigdata_hw2_datasets/q2/games.csv\")"
      ],
      "metadata": {
        "id": "Cifj3psZZpQw"
      },
      "execution_count": 3,
      "outputs": []
    },
    {
      "cell_type": "code",
      "source": [
        "games_dataset = games_dataset[games_dataset[\"game_id\"].notna()]"
      ],
      "metadata": {
        "id": "eFLILy8oaCjQ"
      },
      "execution_count": 4,
      "outputs": []
    },
    {
      "cell_type": "code",
      "source": [
        "ratings_dataset = pd.read_csv(\"/content/Bigdata_hw2_datasets/q2/ratings.csv\")"
      ],
      "metadata": {
        "id": "KMeMANykZvaw"
      },
      "execution_count": 5,
      "outputs": []
    },
    {
      "cell_type": "markdown",
      "source": [
        "# Recommendation Functions"
      ],
      "metadata": {
        "id": "IKUjqlD8bAaO"
      }
    },
    {
      "cell_type": "code",
      "source": [
        "def rated_item_list(user_id):\n",
        "  return ratings_dataset[ratings_dataset[\"user_id\"]==user_id][\"game_id\"].values"
      ],
      "metadata": {
        "id": "cC8RW2iemAVK"
      },
      "execution_count": 6,
      "outputs": []
    },
    {
      "cell_type": "code",
      "source": [
        "# def rater_user_list(item_id):\n",
        "#   return ratings_dataset[ratings_dataset[\"game_id\"]==item_id][\"user_id\"].values"
      ],
      "metadata": {
        "id": "4ZlWGALqmb-n"
      },
      "execution_count": 10,
      "outputs": []
    },
    {
      "cell_type": "code",
      "source": [
        "# def mean_rate_user(user_id):\n",
        "#   return ratings_dataset[ratings_dataset[\"user_id\"]==user_id][\"rating\"].mean()"
      ],
      "metadata": {
        "id": "x5IVMwemzYmJ"
      },
      "execution_count": 11,
      "outputs": []
    },
    {
      "cell_type": "code",
      "source": [
        "# def mean_rate_item(item_id):\n",
        "#   return ratings_dataset[ratings_dataset[\"game_id\"]==item_id][\"rating\"].mean()"
      ],
      "metadata": {
        "id": "d5IuuWlZz5Ez"
      },
      "execution_count": 12,
      "outputs": []
    },
    {
      "cell_type": "code",
      "source": [
        "# def rate(user_id, item_id):\n",
        "#   return ratings_dataset[(ratings_dataset[\"user_id\"]==user_id) & (ratings_dataset[\"game_id\"]==item_id)][\"rating\"].values[0]"
      ],
      "metadata": {
        "id": "kbB7_BUm1blO"
      },
      "execution_count": 13,
      "outputs": []
    },
    {
      "cell_type": "code",
      "source": [
        "# def similarity_users(user_id_1, user_id_2):\n",
        "#   common_item_list = np.intersect1d(rated_item_list(user_id_1), rated_item_list(user_id_2))\n",
        "\n",
        "#   numerator = 0\n",
        "#   denominator_1 = 0\n",
        "#   denominator_2 = 0\n",
        "  \n",
        "#   mean_rate_user_1 = mean_rate_user(user_id_1)\n",
        "#   mean_rate_user_2 = mean_rate_user(user_id_2)\n",
        "\n",
        "#   if len(common_item_list) == 0:\n",
        "#     return None\n",
        "\n",
        "#   for item_id in common_item_list:\n",
        "#     numerator += (rate(user_id_1, item_id)-mean_rate_user_1) * (rate(user_id_2, item_id)-mean_rate_user_2)    \n",
        "\n",
        "#     denominator_1 += (rate(user_id_1, item_id)-mean_rate_user_1) ** 2\n",
        "#     denominator_2 += (rate(user_id_2, item_id)-mean_rate_user_2) ** 2\n",
        "    \n",
        "#   return numerator / ((denominator_1 ** 0.5) * (denominator_2 ** 0.5))"
      ],
      "metadata": {
        "id": "qEfNkmZ7lJFa"
      },
      "execution_count": 20,
      "outputs": []
    },
    {
      "cell_type": "code",
      "source": [
        "# def similarity_items(item_id_1, item_id_2):\n",
        "#   common_user_list = np.intersect1d(rater_user_list(item_id_1), rater_user_list(item_id_2))\n",
        "\n",
        "#   numerator = 0\n",
        "#   denominator_1 = 0\n",
        "#   denominator_2 = 0\n",
        "  \n",
        "#   mean_rate_item_1 = mean_rate_item(item_id_1)\n",
        "#   mean_rate_item_2 = mean_rate_item(item_id_2)\n",
        "\n",
        "#   if len(common_user_list) == 0:\n",
        "#     return None\n",
        "\n",
        "#   for user_id in common_user_list:\n",
        "#     numerator += (rate(user_id, item_id_1)-mean_rate_item_1) * (rate(user_id, item_id_2)-mean_rate_item_2)    \n",
        "\n",
        "#     denominator_1 += (rate(user_id, item_id_1)-mean_rate_item_1) ** 2\n",
        "#     denominator_2 += (rate(user_id, item_id_2)-mean_rate_item_2) ** 2\n",
        "    \n",
        "#   return numerator / ((denominator_1 ** 0.5) * (denominator_2 ** 0.5))"
      ],
      "metadata": {
        "id": "iehY0peFZhlF"
      },
      "execution_count": 23,
      "outputs": []
    },
    {
      "cell_type": "code",
      "source": [
        "# ratings_dataset[ratings_dataset[\"user_id\"] == 314][\"rating\"].values"
      ],
      "metadata": {
        "colab": {
          "base_uri": "https://localhost:8080/"
        },
        "id": "KsIPG7Kuew0z",
        "outputId": "00a9ec4c-f04a-410a-80b0-00f57cf30906"
      },
      "execution_count": 31,
      "outputs": [
        {
          "output_type": "execute_result",
          "data": {
            "text/plain": [
              "array([5, 3, 4, 5, 4, 4, 4, 3, 3, 4, 5, 4, 4, 3, 4, 3, 4, 5, 2, 2, 2, 1,\n",
              "       3, 4, 4, 4, 3, 4, 4, 3, 3, 4, 5, 4, 3, 4, 4, 3, 4, 3, 4, 3, 4, 4,\n",
              "       5, 4, 4, 3, 4, 3, 4, 3, 4, 4, 3, 4, 4, 5, 4, 2, 4, 5, 4, 3, 4, 4,\n",
              "       5, 4, 5, 3, 4, 4, 3, 4, 3, 3, 2, 3, 4, 4, 4, 2, 4, 4, 3, 3, 4, 3,\n",
              "       4, 4, 4, 3, 3, 3, 3, 3, 3, 3, 4, 4, 4, 3, 3, 4, 3, 3, 3, 4, 4, 4,\n",
              "       4, 4, 4, 3, 3, 3, 3, 4, 4, 4, 4, 3, 3, 3, 4, 3, 4, 4, 4, 4, 3, 4,\n",
              "       3, 3, 4, 2, 4, 4, 3, 4, 4, 2, 4, 4, 3, 3, 3, 3, 3, 5, 4, 3, 5, 3,\n",
              "       5, 3, 4, 4, 4, 3, 3, 4, 4, 3, 4, 4, 2, 4, 3, 4, 4, 3, 5, 2, 4, 4,\n",
              "       3, 4, 4, 3, 3])"
            ]
          },
          "metadata": {},
          "execution_count": 31
        }
      ]
    },
    {
      "cell_type": "code",
      "source": [
        "def cosine_similarity(user_x, user_y):\n",
        "  user_x_rates = ratings_dataset[ratings_dataset[\"user_id\"]==user_x][\"rating\"].values\n",
        "  user_y_rates = ratings_dataset[ratings_dataset[\"user_id\"]==user_y][\"rating\"].values\n",
        "\n",
        "  user_x_norm = sum([rate**2 for rate in user_x_rates]) ** 0.5 \n",
        "  user_y_norm = sum([rate**2 for rate in user_y_rates]) ** 0.5 \n",
        "\n",
        "  common_item_list = np.intersect1d(rated_item_list(user_x), rated_item_list(user_y))\n",
        "\n",
        "  minimal_ratings_dataset = ratings_dataset[ratings_dataset[\"game_id\"].isin(common_item_list) & ratings_dataset[\"user_id\"].isin([user_x, user_y])]\n",
        "\n",
        "  user_x_y_dot = 0\n",
        "  for item_id in common_item_list:\n",
        "    rate_1, rate_2 = minimal_ratings_dataset[minimal_ratings_dataset[\"game_id\"]==item_id][\"rating\"].values\n",
        "    user_x_y_dot += rate_1 * rate_2\n",
        "\n",
        "  return user_x_y_dot / (user_x_norm * user_y_norm)"
      ],
      "metadata": {
        "id": "KEjQ7uVbdsNN"
      },
      "execution_count": 7,
      "outputs": []
    },
    {
      "cell_type": "markdown",
      "source": [
        "# Results"
      ],
      "metadata": {
        "id": "gEtFm0DNbKAS"
      }
    },
    {
      "cell_type": "code",
      "source": [
        "similarity_items(1, 5)"
      ],
      "metadata": {
        "colab": {
          "base_uri": "https://localhost:8080/"
        },
        "id": "h53jEy7XZAyW",
        "outputId": "0ab75b5b-3e7d-4cdf-ddf7-5ce58d2910bf"
      },
      "execution_count": 27,
      "outputs": [
        {
          "output_type": "execute_result",
          "data": {
            "text/plain": [
              "0.09819797153379713"
            ]
          },
          "metadata": {},
          "execution_count": 27
        }
      ]
    },
    {
      "cell_type": "code",
      "source": [
        ""
      ],
      "metadata": {
        "id": "MR7OmsmOZOOg"
      },
      "execution_count": null,
      "outputs": []
    }
  ]
}