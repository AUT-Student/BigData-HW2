{
  "nbformat": 4,
  "nbformat_minor": 0,
  "metadata": {
    "colab": {
      "name": "BigData_HW2_Q2.ipynb",
      "provenance": [],
      "collapsed_sections": [],
      "toc_visible": true,
      "authorship_tag": "ABX9TyN/KsGImAYiVi4rgL/Jje4X",
      "include_colab_link": true
    },
    "kernelspec": {
      "name": "python3",
      "display_name": "Python 3"
    },
    "language_info": {
      "name": "python"
    }
  },
  "cells": [
    {
      "cell_type": "markdown",
      "metadata": {
        "id": "view-in-github",
        "colab_type": "text"
      },
      "source": [
        "<a href=\"https://colab.research.google.com/github/AUT-Student/BigData-HW2/blob/main/BigData_HW2_Q2.ipynb\" target=\"_parent\"><img src=\"https://colab.research.google.com/assets/colab-badge.svg\" alt=\"Open In Colab\"/></a>"
      ]
    },
    {
      "cell_type": "markdown",
      "source": [
        "# Libraries"
      ],
      "metadata": {
        "id": "HfxOh6s7ZhoQ"
      }
    },
    {
      "cell_type": "code",
      "execution_count": 1,
      "metadata": {
        "id": "TLspPxStZaBr"
      },
      "outputs": [],
      "source": [
        "import pandas as pd\n",
        "import numpy as np"
      ]
    },
    {
      "cell_type": "markdown",
      "source": [
        "# Dataset"
      ],
      "metadata": {
        "id": "Vkhhn-j8ZjnA"
      }
    },
    {
      "cell_type": "code",
      "source": [
        "!gdown 1PdXgb4w0gtsocKHmeGQ_zPfb3VbW9YhL\n",
        "!unzip /content/Bigdata_hw2_datasets.zip"
      ],
      "metadata": {
        "colab": {
          "base_uri": "https://localhost:8080/"
        },
        "id": "U-ok8QfIZkUD",
        "outputId": "dbd53696-5f6f-4182-87fb-e8bc5712885c"
      },
      "execution_count": 2,
      "outputs": [
        {
          "output_type": "stream",
          "name": "stdout",
          "text": [
            "Downloading...\n",
            "From: https://drive.google.com/uc?id=1PdXgb4w0gtsocKHmeGQ_zPfb3VbW9YhL\n",
            "To: /content/Bigdata_hw2_datasets.zip\n",
            "100% 6.28M/6.28M [00:00<00:00, 17.2MB/s]\n",
            "Archive:  /content/Bigdata_hw2_datasets.zip\n",
            "   creating: Bigdata_hw2_datasets/\n",
            "   creating: Bigdata_hw2_datasets/q1/\n",
            "  inflating: Bigdata_hw2_datasets/q1/stream_data_dgim.txt  \n",
            "   creating: Bigdata_hw2_datasets/q2/\n",
            "  inflating: Bigdata_hw2_datasets/q2/games.csv  \n",
            "  inflating: Bigdata_hw2_datasets/q2/ratings.csv  \n",
            "   creating: Bigdata_hw2_datasets/q3/\n",
            "  inflating: Bigdata_hw2_datasets/q3/c1.txt  \n",
            "  inflating: Bigdata_hw2_datasets/q3/c2.txt  \n",
            "  inflating: Bigdata_hw2_datasets/q3/data.txt  \n"
          ]
        }
      ]
    },
    {
      "cell_type": "code",
      "source": [
        "games_dataset = pd.read_csv(\"/content/Bigdata_hw2_datasets/q2/games.csv\")"
      ],
      "metadata": {
        "id": "Cifj3psZZpQw"
      },
      "execution_count": 3,
      "outputs": []
    },
    {
      "cell_type": "code",
      "source": [
        "games_dataset = games_dataset[games_dataset[\"game_id\"].notna()]"
      ],
      "metadata": {
        "id": "eFLILy8oaCjQ"
      },
      "execution_count": 4,
      "outputs": []
    },
    {
      "cell_type": "code",
      "source": [
        "ratings_dataset = pd.read_csv(\"/content/Bigdata_hw2_datasets/q2/ratings.csv\")"
      ],
      "metadata": {
        "id": "KMeMANykZvaw"
      },
      "execution_count": 5,
      "outputs": []
    },
    {
      "cell_type": "code",
      "source": [
        "ratings_dataset = ratings_dataset.drop_duplicates([\"user_id\", \"game_id\"], keep=\"last\")"
      ],
      "metadata": {
        "id": "cikRlX--zvDS"
      },
      "execution_count": 6,
      "outputs": []
    },
    {
      "cell_type": "markdown",
      "source": [
        "# Auxililary Functions"
      ],
      "metadata": {
        "id": "IKUjqlD8bAaO"
      }
    },
    {
      "cell_type": "code",
      "source": [
        "def rated_item_list(user_id):\n",
        "  return ratings_dataset[ratings_dataset[\"user_id\"]==user_id][\"game_id\"].values"
      ],
      "metadata": {
        "id": "cC8RW2iemAVK"
      },
      "execution_count": 7,
      "outputs": []
    },
    {
      "cell_type": "code",
      "source": [
        "def cosine_similarity(user_x, user_y):\n",
        "  if user_x == user_y:\n",
        "    return 1\n",
        "\n",
        "  user_x_rates = ratings_dataset[ratings_dataset[\"user_id\"]==user_x][\"rating\"].values\n",
        "  user_y_rates = ratings_dataset[ratings_dataset[\"user_id\"]==user_y][\"rating\"].values\n",
        "\n",
        "  user_x_norm = sum([rate**2 for rate in user_x_rates]) ** 0.5 \n",
        "  user_y_norm = sum([rate**2 for rate in user_y_rates]) ** 0.5 \n",
        "\n",
        "  common_item_list = np.intersect1d(rated_item_list(user_x), rated_item_list(user_y))\n",
        "\n",
        "  minimal_ratings_dataset = ratings_dataset[ratings_dataset[\"game_id\"].isin(common_item_list) & ratings_dataset[\"user_id\"].isin([user_x, user_y])]\n",
        "\n",
        "  user_x_y_dot = 0\n",
        "  for item_id in common_item_list:\n",
        "    rate_1, rate_2 = minimal_ratings_dataset[minimal_ratings_dataset[\"game_id\"]==item_id][\"rating\"].values\n",
        "    user_x_y_dot += rate_1 * rate_2\n",
        "\n",
        "  return user_x_y_dot / (user_x_norm * user_y_norm)"
      ],
      "metadata": {
        "id": "KEjQ7uVbdsNN"
      },
      "execution_count": 8,
      "outputs": []
    },
    {
      "cell_type": "markdown",
      "source": [
        "# Most Similar Users"
      ],
      "metadata": {
        "id": "O7FG-z1F7Qr5"
      }
    },
    {
      "cell_type": "code",
      "source": [
        "def most_similar_users(user):\n",
        "  all_user_id_list = set(ratings_dataset[\"user_id\"].values)\n",
        "  \n",
        "  similarity_scores = []\n",
        "\n",
        "  for i, user_id in enumerate(all_user_id_list):\n",
        "    if i%2000==0: print(int(i*100/len(all_user_id_list)), \"%\")\n",
        "    if user_id == user: continue\n",
        "\n",
        "    score = cosine_similarity(user, user_id)\n",
        "    similarity_scores.append({\"score\": score, \"user-id\": user_id})\n",
        "\n",
        "  similarity_scores = sorted(similarity_scores, key=lambda x: -x[\"score\"])\n",
        "  return similarity_scores"
      ],
      "metadata": {
        "id": "iGTnwqU3pkuq"
      },
      "execution_count": 9,
      "outputs": []
    },
    {
      "cell_type": "markdown",
      "source": [
        "# Prediction"
      ],
      "metadata": {
        "id": "591hUOAA7WQG"
      }
    },
    {
      "cell_type": "code",
      "source": [
        "def predict_rate(similar_users, item_id, number):\n",
        "  minimal_ratings_dataset = ratings_dataset[ratings_dataset[\"game_id\"]==item_id]\n",
        "\n",
        "  rater_user_id_list = minimal_ratings_dataset[\"user_id\"].values\n",
        "\n",
        "  sum_score = 0\n",
        "  sum_rate_score = 0\n",
        "  number_users = 0 \n",
        "\n",
        "  for record in similar_users:\n",
        "    user_id = record[\"user-id\"]\n",
        "    score = record[\"score\"]\n",
        "    if user_id in rater_user_id_list:\n",
        "      number_users += 1\n",
        "      rate = minimal_ratings_dataset[minimal_ratings_dataset[\"user_id\"]==user_id][\"rating\"].values[0]\n",
        "      sum_rate_score += score * rate\n",
        "      sum_score += score\n",
        "            \n",
        "      if number_users == number:\n",
        "        break\n",
        "\n",
        "  if sum_score==0:\n",
        "    return None\n",
        "\n",
        "  rate = sum_rate_score / sum_score\n",
        "  \n",
        "  rate = round(rate, 3)\n",
        "\n",
        "  return rate"
      ],
      "metadata": {
        "id": "7N5ZcNKJ7kEw"
      },
      "execution_count": 10,
      "outputs": []
    },
    {
      "cell_type": "markdown",
      "source": [
        "# Recommendation"
      ],
      "metadata": {
        "id": "IB-HHce17big"
      }
    },
    {
      "cell_type": "code",
      "source": [
        "def recommend(user_id, number_recommendation):\n",
        "  similar_users = most_similar_users(user_id)\n",
        "\n",
        "  exist_rate = ratings_dataset[ratings_dataset[\"user_id\"] == user_id][\"game_id\"].values\n",
        "  \n",
        "  rate_list = []\n",
        "  for item_id in range(1, 10001):\n",
        "    if item_id%1000==0: print(int(item_id/100), \"%\")\n",
        "    if item_id in exist_rate: continue\n",
        "\n",
        "    rate = predict_rate(similar_users, item_id, 10)\n",
        "\n",
        "    if rate is not None:\n",
        "      rate_list.append({\"rate\": rate, \"item-id\": item_id})\n",
        "\n",
        "  rate_list = sorted(rate_list, key=lambda x: (-x[\"rate\"], item_id))[:number_recommendation]\n",
        "\n",
        "  output_list = []\n",
        "\n",
        "  for record in rate_list:\n",
        "    item_id = record[\"item-id\"]\n",
        "    rate = record[\"rate\"]\n",
        "\n",
        "    name = games_dataset[games_dataset[\"game_id\"] == item_id][\"name\"].values[0]\n",
        "\n",
        "    output_list.append({\"name\": name, \"game_id\": item_id, \"rate\": rate})\n",
        "\n",
        "  return output_list"
      ],
      "metadata": {
        "id": "yW5aRJsF_swP"
      },
      "execution_count": 16,
      "outputs": []
    },
    {
      "cell_type": "markdown",
      "source": [
        "# Results"
      ],
      "metadata": {
        "id": "mDKRvfy_7jH6"
      }
    },
    {
      "cell_type": "code",
      "source": [
        "recommend(user_id=5461, number_recommendation=5)"
      ],
      "metadata": {
        "colab": {
          "base_uri": "https://localhost:8080/"
        },
        "id": "VLF8h11d-lO1",
        "outputId": "90c06525-be96-4b2d-e630-9e485edf41d0"
      },
      "execution_count": null,
      "outputs": [
        {
          "output_type": "stream",
          "name": "stdout",
          "text": [
            "0 %\n",
            "3 %\n",
            "7 %\n"
          ]
        }
      ]
    },
    {
      "cell_type": "code",
      "source": [
        "recommend(user_id=10140, number_recommendation=5)"
      ],
      "metadata": {
        "id": "s63QV9683AKP"
      },
      "execution_count": null,
      "outputs": []
    },
    {
      "cell_type": "code",
      "source": [
        ""
      ],
      "metadata": {
        "id": "MR7OmsmOZOOg"
      },
      "execution_count": null,
      "outputs": []
    }
  ]
}