{
  "nbformat": 4,
  "nbformat_minor": 0,
  "metadata": {
    "colab": {
      "name": "BigData_HW2_Q3.ipynb",
      "provenance": [],
      "toc_visible": true,
      "authorship_tag": "ABX9TyOEZM8KX58r+ctHtFqZQln9",
      "include_colab_link": true
    },
    "kernelspec": {
      "name": "python3",
      "display_name": "Python 3"
    },
    "language_info": {
      "name": "python"
    }
  },
  "cells": [
    {
      "cell_type": "markdown",
      "metadata": {
        "id": "view-in-github",
        "colab_type": "text"
      },
      "source": [
        "<a href=\"https://colab.research.google.com/github/AUT-Student/BigData-HW2/blob/main/BigData_HW2_Q3.ipynb\" target=\"_parent\"><img src=\"https://colab.research.google.com/assets/colab-badge.svg\" alt=\"Open In Colab\"/></a>"
      ]
    },
    {
      "cell_type": "markdown",
      "source": [
        "# PySpark Setting"
      ],
      "metadata": {
        "id": "zjwNOXx36Dsf"
      }
    },
    {
      "cell_type": "code",
      "source": [
        "!pip install pyspark"
      ],
      "metadata": {
        "colab": {
          "base_uri": "https://localhost:8080/"
        },
        "id": "Ktq9IKkWA0rl",
        "outputId": "8a4e76e6-c54f-4825-cd17-1a4dbb3af56a"
      },
      "execution_count": 1,
      "outputs": [
        {
          "output_type": "stream",
          "name": "stdout",
          "text": [
            "Collecting pyspark\n",
            "  Downloading pyspark-3.2.1.tar.gz (281.4 MB)\n",
            "\u001b[K     |████████████████████████████████| 281.4 MB 24 kB/s \n",
            "\u001b[?25hCollecting py4j==0.10.9.3\n",
            "  Downloading py4j-0.10.9.3-py2.py3-none-any.whl (198 kB)\n",
            "\u001b[K     |████████████████████████████████| 198 kB 45.6 MB/s \n",
            "\u001b[?25hBuilding wheels for collected packages: pyspark\n",
            "  Building wheel for pyspark (setup.py) ... \u001b[?25l\u001b[?25hdone\n",
            "  Created wheel for pyspark: filename=pyspark-3.2.1-py2.py3-none-any.whl size=281853642 sha256=17aed0a6c4c9a7445a59033ffbabdab7cc7bcd15220b3ff4ff2f594f780e568e\n",
            "  Stored in directory: /root/.cache/pip/wheels/9f/f5/07/7cd8017084dce4e93e84e92efd1e1d5334db05f2e83bcef74f\n",
            "Successfully built pyspark\n",
            "Installing collected packages: py4j, pyspark\n",
            "Successfully installed py4j-0.10.9.3 pyspark-3.2.1\n"
          ]
        }
      ]
    },
    {
      "cell_type": "code",
      "source": [
        "from pyspark.sql import SparkSession\n",
        "\n",
        "spark = SparkSession.builder\\\n",
        "        .master(\"local\")\\\n",
        "        .appName(\"Colab\")\\\n",
        "        .config('spark.ui.port', '4050')\\\n",
        "        .getOrCreate()"
      ],
      "metadata": {
        "id": "ZFrL47YaFO--"
      },
      "execution_count": 2,
      "outputs": []
    },
    {
      "cell_type": "code",
      "source": [
        "spark"
      ],
      "metadata": {
        "colab": {
          "base_uri": "https://localhost:8080/",
          "height": 219
        },
        "id": "5o84n08UFUht",
        "outputId": "e91f898d-b732-423a-f175-30e9ebd01ed7"
      },
      "execution_count": 3,
      "outputs": [
        {
          "output_type": "execute_result",
          "data": {
            "text/plain": [
              "<pyspark.sql.session.SparkSession at 0x7f504a625ad0>"
            ],
            "text/html": [
              "\n",
              "            <div>\n",
              "                <p><b>SparkSession - in-memory</b></p>\n",
              "                \n",
              "        <div>\n",
              "            <p><b>SparkContext</b></p>\n",
              "\n",
              "            <p><a href=\"http://5862df3f08c9:4050\">Spark UI</a></p>\n",
              "\n",
              "            <dl>\n",
              "              <dt>Version</dt>\n",
              "                <dd><code>v3.2.1</code></dd>\n",
              "              <dt>Master</dt>\n",
              "                <dd><code>local</code></dd>\n",
              "              <dt>AppName</dt>\n",
              "                <dd><code>Colab</code></dd>\n",
              "            </dl>\n",
              "        </div>\n",
              "        \n",
              "            </div>\n",
              "        "
            ]
          },
          "metadata": {},
          "execution_count": 3
        }
      ]
    },
    {
      "cell_type": "markdown",
      "source": [
        "# Libraries"
      ],
      "metadata": {
        "id": "8LHXWazaRs3E"
      }
    },
    {
      "cell_type": "code",
      "execution_count": 4,
      "metadata": {
        "id": "0uXhhYydRnkU"
      },
      "outputs": [],
      "source": [
        "import pandas as pd\n",
        "import numpy as np"
      ]
    },
    {
      "cell_type": "code",
      "source": [
        "from pyspark.sql.types import FloatType \n",
        "from pyspark.sql.functions import min, udf, lit, col\n",
        "import pyspark.sql.functions as f\n",
        "from pyspark.sql import Window"
      ],
      "metadata": {
        "id": "qivL6A9Tqg2N"
      },
      "execution_count": 63,
      "outputs": []
    },
    {
      "cell_type": "markdown",
      "source": [
        "# Dataset"
      ],
      "metadata": {
        "id": "kZ76wnApRwx7"
      }
    },
    {
      "cell_type": "code",
      "source": [
        "!gdown 1PdXgb4w0gtsocKHmeGQ_zPfb3VbW9YhL\n",
        "!unzip /content/Bigdata_hw2_datasets.zip"
      ],
      "metadata": {
        "colab": {
          "base_uri": "https://localhost:8080/"
        },
        "id": "Gm-3RyhoRxdB",
        "outputId": "cad66e34-0ddd-4848-a616-a3fb62f0321b"
      },
      "execution_count": 6,
      "outputs": [
        {
          "output_type": "stream",
          "name": "stdout",
          "text": [
            "Downloading...\n",
            "From: https://drive.google.com/uc?id=1PdXgb4w0gtsocKHmeGQ_zPfb3VbW9YhL\n",
            "To: /content/Bigdata_hw2_datasets.zip\n",
            "\r  0% 0.00/6.28M [00:00<?, ?B/s]\r 75% 4.72M/6.28M [00:00<00:00, 32.4MB/s]\r100% 6.28M/6.28M [00:00<00:00, 41.6MB/s]\n",
            "Archive:  /content/Bigdata_hw2_datasets.zip\n",
            "   creating: Bigdata_hw2_datasets/\n",
            "   creating: Bigdata_hw2_datasets/q1/\n",
            "  inflating: Bigdata_hw2_datasets/q1/stream_data_dgim.txt  \n",
            "   creating: Bigdata_hw2_datasets/q2/\n",
            "  inflating: Bigdata_hw2_datasets/q2/games.csv  \n",
            "  inflating: Bigdata_hw2_datasets/q2/ratings.csv  \n",
            "   creating: Bigdata_hw2_datasets/q3/\n",
            "  inflating: Bigdata_hw2_datasets/q3/c1.txt  \n",
            "  inflating: Bigdata_hw2_datasets/q3/c2.txt  \n",
            "  inflating: Bigdata_hw2_datasets/q3/data.txt  \n"
          ]
        }
      ]
    },
    {
      "cell_type": "code",
      "source": [
        "dataset_pandas = pd.read_csv(\"/content/Bigdata_hw2_datasets/q3/data.txt\", header=None, names=[\"data\"])\n",
        "dataset_pandas[\"data\"] = dataset_pandas[\"data\"].apply(lambda x:x.split(\" \"))\n",
        "dataset_pandas[\"data\"] = dataset_pandas[\"data\"].apply(lambda item: [float(x) for x in item])\n",
        "\n",
        "c1_pandas = pd.read_csv(\"/content/Bigdata_hw2_datasets/q3/c1.txt\", header=None, names=[\"center\"])\n",
        "c1_pandas[\"center\"] = c1_pandas[\"center\"].apply(lambda x:x.split(\" \"))\n",
        "c1_pandas[\"center\"] = c1_pandas[\"center\"].apply(lambda item: [float(x) for x in item])\n",
        "\n",
        "c2_pandas = pd.read_csv(\"/content/Bigdata_hw2_datasets/q3/c2.txt\", header=None, names=[\"center\"])\n",
        "c2_pandas[\"center\"] = c2_pandas[\"center\"].apply(lambda x:x.split(\" \"))\n",
        "c2_pandas[\"center\"] = c2_pandas[\"center\"].apply(lambda item: [float(x) for x in item])"
      ],
      "metadata": {
        "id": "UC2ZjPAdZH5Z"
      },
      "execution_count": 52,
      "outputs": []
    },
    {
      "cell_type": "code",
      "source": [
        "dataset_pandas[\"data-id\"] = range(len(dataset_pandas))\n",
        "c1_pandas[\"center-id\"] = range(len(c1_pandas))"
      ],
      "metadata": {
        "id": "o6AqiXeQUV1w"
      },
      "execution_count": 53,
      "outputs": []
    },
    {
      "cell_type": "code",
      "source": [
        "dataset_spark = spark.createDataFrame(dataset_pandas)\n",
        "center_spark = spark.createDataFrame(c1_pandas)"
      ],
      "metadata": {
        "id": "FPUv6ijkpsYj"
      },
      "execution_count": 54,
      "outputs": []
    },
    {
      "cell_type": "code",
      "source": [
        "NUMBER_FEATURES = 58"
      ],
      "metadata": {
        "id": "77e97t5xTHJB"
      },
      "execution_count": 32,
      "outputs": []
    },
    {
      "cell_type": "markdown",
      "source": [
        "# KMeans"
      ],
      "metadata": {
        "id": "byPoiD53ZTLg"
      }
    },
    {
      "cell_type": "code",
      "source": [
        "def euclidean_distance(a, b):\n",
        "  distance = 0\n",
        "  for i in range(NUMBER_FEATURES):\n",
        "    distance += (a[i] - b[i]) ** 2\n",
        "  return distance ** 0.5"
      ],
      "metadata": {
        "id": "BCpo75S1qxla"
      },
      "execution_count": 33,
      "outputs": []
    },
    {
      "cell_type": "code",
      "source": [
        "data_center_spark = dataset_spark.join(center_spark).withColumn('distance', euclidean_distance(dataset_spark.data, center_spark.center))"
      ],
      "metadata": {
        "id": "sb_GK1gYdG3X"
      },
      "execution_count": 56,
      "outputs": []
    },
    {
      "cell_type": "code",
      "source": [
        "data_center_spark = data_center_spark.withColumn(\"min-distance\", f.min(\"distance\").over(Window.partitionBy(\"data-id\")))\\\n",
        "                                    .where(col(\"min-distance\") == f.col(\"distance\"))\\\n",
        "                                    .drop(*[\"distance\", \"min-distance\"])"
      ],
      "metadata": {
        "id": "1vHQd_kcQz64"
      },
      "execution_count": 69,
      "outputs": []
    },
    {
      "cell_type": "code",
      "source": [
        ""
      ],
      "metadata": {
        "id": "DjNsw54HWdZp"
      },
      "execution_count": null,
      "outputs": []
    }
  ]
}