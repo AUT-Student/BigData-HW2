{
  "cells": [
    {
      "cell_type": "markdown",
      "metadata": {
        "id": "view-in-github",
        "colab_type": "text"
      },
      "source": [
        "<a href=\"https://colab.research.google.com/github/AUT-Student/BigData-HW2/blob/main/BigData_HW2_Q3.ipynb\" target=\"_parent\"><img src=\"https://colab.research.google.com/assets/colab-badge.svg\" alt=\"Open In Colab\"/></a>"
      ]
    },
    {
      "cell_type": "markdown",
      "metadata": {
        "id": "zjwNOXx36Dsf"
      },
      "source": [
        "# PySpark Setting"
      ]
    },
    {
      "cell_type": "code",
      "execution_count": 1,
      "metadata": {
        "colab": {
          "base_uri": "https://localhost:8080/"
        },
        "id": "Ktq9IKkWA0rl",
        "outputId": "bc5e913a-9844-49c4-cbde-f76f6c944fd4"
      },
      "outputs": [
        {
          "output_type": "stream",
          "name": "stdout",
          "text": [
            "Collecting pyspark\n",
            "  Downloading pyspark-3.2.1.tar.gz (281.4 MB)\n",
            "\u001b[K     |████████████████████████████████| 281.4 MB 30 kB/s \n",
            "\u001b[?25hCollecting py4j==0.10.9.3\n",
            "  Downloading py4j-0.10.9.3-py2.py3-none-any.whl (198 kB)\n",
            "\u001b[K     |████████████████████████████████| 198 kB 39.0 MB/s \n",
            "\u001b[?25hBuilding wheels for collected packages: pyspark\n",
            "  Building wheel for pyspark (setup.py) ... \u001b[?25l\u001b[?25hdone\n",
            "  Created wheel for pyspark: filename=pyspark-3.2.1-py2.py3-none-any.whl size=281853642 sha256=f117b6dfe26fc7ecba66a869c9f48bf1acbb9d1b48b74aa87f51faffe12868b7\n",
            "  Stored in directory: /root/.cache/pip/wheels/9f/f5/07/7cd8017084dce4e93e84e92efd1e1d5334db05f2e83bcef74f\n",
            "Successfully built pyspark\n",
            "Installing collected packages: py4j, pyspark\n",
            "Successfully installed py4j-0.10.9.3 pyspark-3.2.1\n"
          ]
        }
      ],
      "source": [
        "!pip install pyspark"
      ]
    },
    {
      "cell_type": "code",
      "execution_count": 2,
      "metadata": {
        "id": "ZFrL47YaFO--"
      },
      "outputs": [],
      "source": [
        "from pyspark.sql import SparkSession\n",
        "\n",
        "spark = SparkSession.builder\\\n",
        "        .master(\"local\")\\\n",
        "        .appName(\"Colab\")\\\n",
        "        .config('spark.ui.port', '4050')\\\n",
        "        .getOrCreate()"
      ]
    },
    {
      "cell_type": "code",
      "execution_count": 3,
      "metadata": {
        "colab": {
          "base_uri": "https://localhost:8080/",
          "height": 219
        },
        "id": "5o84n08UFUht",
        "outputId": "1dfe2a93-e778-4c95-c337-91cd5c9ddab6"
      },
      "outputs": [
        {
          "output_type": "execute_result",
          "data": {
            "text/plain": [
              "<pyspark.sql.session.SparkSession at 0x7efc41621ad0>"
            ],
            "text/html": [
              "\n",
              "            <div>\n",
              "                <p><b>SparkSession - in-memory</b></p>\n",
              "                \n",
              "        <div>\n",
              "            <p><b>SparkContext</b></p>\n",
              "\n",
              "            <p><a href=\"http://4ee81a2b7a60:4050\">Spark UI</a></p>\n",
              "\n",
              "            <dl>\n",
              "              <dt>Version</dt>\n",
              "                <dd><code>v3.2.1</code></dd>\n",
              "              <dt>Master</dt>\n",
              "                <dd><code>local</code></dd>\n",
              "              <dt>AppName</dt>\n",
              "                <dd><code>Colab</code></dd>\n",
              "            </dl>\n",
              "        </div>\n",
              "        \n",
              "            </div>\n",
              "        "
            ]
          },
          "metadata": {},
          "execution_count": 3
        }
      ],
      "source": [
        "spark"
      ]
    },
    {
      "cell_type": "markdown",
      "metadata": {
        "id": "8LHXWazaRs3E"
      },
      "source": [
        "# Libraries"
      ]
    },
    {
      "cell_type": "code",
      "execution_count": 4,
      "metadata": {
        "id": "0uXhhYydRnkU"
      },
      "outputs": [],
      "source": [
        "import pandas as pd\n",
        "import numpy as np\n",
        "import matplotlib.pyplot as plt"
      ]
    },
    {
      "cell_type": "code",
      "execution_count": 5,
      "metadata": {
        "id": "qivL6A9Tqg2N"
      },
      "outputs": [],
      "source": [
        "from pyspark.sql.types import FloatType, ArrayType, IntegerType\n",
        "from pyspark.sql.functions import udf\n",
        "import pyspark.sql.functions as f\n",
        "from pyspark.sql import Window"
      ]
    },
    {
      "cell_type": "markdown",
      "metadata": {
        "id": "kZ76wnApRwx7"
      },
      "source": [
        "# Dataset"
      ]
    },
    {
      "cell_type": "code",
      "execution_count": 6,
      "metadata": {
        "colab": {
          "base_uri": "https://localhost:8080/"
        },
        "id": "Gm-3RyhoRxdB",
        "outputId": "e9358af0-5597-43ff-dd91-3adf83485d9f"
      },
      "outputs": [
        {
          "output_type": "stream",
          "name": "stdout",
          "text": [
            "Downloading...\n",
            "From: https://drive.google.com/uc?id=1PdXgb4w0gtsocKHmeGQ_zPfb3VbW9YhL\n",
            "To: /content/Bigdata_hw2_datasets.zip\n",
            "100% 6.28M/6.28M [00:00<00:00, 36.7MB/s]\n",
            "Archive:  /content/Bigdata_hw2_datasets.zip\n",
            "   creating: Bigdata_hw2_datasets/\n",
            "   creating: Bigdata_hw2_datasets/q1/\n",
            "  inflating: Bigdata_hw2_datasets/q1/stream_data_dgim.txt  \n",
            "   creating: Bigdata_hw2_datasets/q2/\n",
            "  inflating: Bigdata_hw2_datasets/q2/games.csv  \n",
            "  inflating: Bigdata_hw2_datasets/q2/ratings.csv  \n",
            "   creating: Bigdata_hw2_datasets/q3/\n",
            "  inflating: Bigdata_hw2_datasets/q3/c1.txt  \n",
            "  inflating: Bigdata_hw2_datasets/q3/c2.txt  \n",
            "  inflating: Bigdata_hw2_datasets/q3/data.txt  \n"
          ]
        }
      ],
      "source": [
        "!gdown 1PdXgb4w0gtsocKHmeGQ_zPfb3VbW9YhL\n",
        "!unzip /content/Bigdata_hw2_datasets.zip"
      ]
    },
    {
      "cell_type": "code",
      "execution_count": 7,
      "metadata": {
        "id": "UC2ZjPAdZH5Z"
      },
      "outputs": [],
      "source": [
        "dataset_pandas = pd.read_csv(\"/content/Bigdata_hw2_datasets/q3/data.txt\", header=None, names=[\"data\"])\n",
        "dataset_pandas[\"data\"] = dataset_pandas[\"data\"].apply(lambda x:x.split(\" \"))\n",
        "dataset_pandas[\"data\"] = dataset_pandas[\"data\"].apply(lambda item: [float(x) for x in item])\n",
        "dataset_pandas[\"data-id\"] = range(len(dataset_pandas))\n",
        "\n",
        "c1_pandas = pd.read_csv(\"/content/Bigdata_hw2_datasets/q3/c1.txt\", header=None, names=[\"center\"])\n",
        "c1_pandas[\"center\"] = c1_pandas[\"center\"].apply(lambda x:x.split(\" \"))\n",
        "c1_pandas[\"center\"] = c1_pandas[\"center\"].apply(lambda item: [float(x) for x in item])\n",
        "c1_pandas[\"center-id\"] = range(len(c1_pandas))\n",
        "\n",
        "c2_pandas = pd.read_csv(\"/content/Bigdata_hw2_datasets/q3/c2.txt\", header=None, names=[\"center\"])\n",
        "c2_pandas[\"center\"] = c2_pandas[\"center\"].apply(lambda x:x.split(\" \"))\n",
        "c2_pandas[\"center\"] = c2_pandas[\"center\"].apply(lambda item: [float(x) for x in item])\n",
        "c2_pandas[\"center-id\"] = range(len(c2_pandas))"
      ]
    },
    {
      "cell_type": "code",
      "execution_count": 8,
      "metadata": {
        "id": "77e97t5xTHJB"
      },
      "outputs": [],
      "source": [
        "NUMBER_FEATURES = 58"
      ]
    },
    {
      "cell_type": "markdown",
      "metadata": {
        "id": "byPoiD53ZTLg"
      },
      "source": [
        "# KMeans"
      ]
    },
    {
      "cell_type": "code",
      "execution_count": 12,
      "metadata": {
        "id": "ZBivr3T11vDd"
      },
      "outputs": [],
      "source": [
        "class SparkKMeans():\n",
        "  def __init__(self, dataset, center, description, distance_metric_name):\n",
        "    self.dataset_spark = spark.createDataFrame(dataset)\n",
        "    self.center_spark = spark.createDataFrame(center)\n",
        "    self.description = description\n",
        "\n",
        "    if distance_metric_name == \"Euclidean\":\n",
        "      self.distance_metric = self.euclidean_distance\n",
        "    elif distance_metric_name == \"Manhatan\":\n",
        "      self.distance_metric = self.manhatan_distance\n",
        "    else:\n",
        "      raise Exception(\"Invalid distance_metric_name!\")\n",
        "\n",
        "  def run(self, number_epochs):\n",
        "    self.number_epochs = number_epochs\n",
        "    self.costs = []\n",
        "    for step in range(number_epochs):\n",
        "      data_center_spark = self.dataset_spark.join(self.center_spark)\\\n",
        "                              .withColumn('distance', self.distance_metric(self.dataset_spark.data, self.center_spark.center))\n",
        "\n",
        "      data_center_spark = data_center_spark.withColumn(\"min-distance\", f.min(\"distance\")\\\n",
        "                                           .over(Window.partitionBy(\"data-id\")))\\\n",
        "                                           .where(f.col(\"min-distance\") == f.col(\"distance\"))\\\n",
        "                                           .drop(*[\"min-distance\", \"center\"])\n",
        "\n",
        "      step_cost = data_center_spark.select(\"distance\")\\\n",
        "                                   .groupBy().sum().collect()[0][0]\n",
        "      \n",
        "      self.costs.append(step_cost)\n",
        "      print(f\"Step = {step}, Cost = {step_cost}\")\n",
        "\n",
        "      data_center_mapping = data_center_spark.drop(*[\"data\", \"distance\"])\\\n",
        "                                             .toDF(\"data-id\", \"center-id\")\\\n",
        "                                             .toPandas()\n",
        "      \n",
        "      data_center_spark = data_center_spark.groupBy(\"center-id\")\\\n",
        "                                           .agg(f.collect_list(\"data\")\\\n",
        "                                           .alias(\"data-list\"))\n",
        "\n",
        "      array_mean_udf = udf(self.array_mean, ArrayType(FloatType()))\n",
        "\n",
        "      self.center_spark = data_center_spark.select(\"center-id\", array_mean_udf(\"data-list\")\\\n",
        "                                           .alias(\"center\"))\n",
        "\n",
        "    return data_center_mapping\n",
        "\n",
        "  def report(self):\n",
        "    print(f\"Change cost percent in ten steps {int((self.costs[0] - self.costs[10]) / self.costs[0] * 100)}%\\n\") \n",
        "\n",
        "    plt.scatter(range(1, self.number_epochs+1), self.costs)\n",
        "    plt.plot(range(1, self.number_epochs+1), self.costs)\n",
        "    plt.xlabel(\"Step\")\n",
        "    plt.ylabel(\"Cost\")\n",
        "    plt.title(f\"Change Cost in KMeans\\n{self.description}\")\n",
        "    plt.show()\n",
        "\n",
        "  @staticmethod\n",
        "  def euclidean_distance(a, b):\n",
        "    distance = 0\n",
        "    for i in range(NUMBER_FEATURES):\n",
        "      distance += (a[i] - b[i]) ** 2\n",
        "    return distance ** 0.5\n",
        "\n",
        "  @staticmethod\n",
        "  def manhatan_distance(a, b):\n",
        "    distance = 0\n",
        "    for i in range(NUMBER_FEATURES):\n",
        "      distance += f.abs(a[i] - b[i])\n",
        "    return distance\n",
        "\n",
        "  @staticmethod\n",
        "  def array_mean(x):\n",
        "    number_data = len([i for i in zip(*x)][0])\n",
        "    sum_array = [sum(i) for i in zip(*x)]\n",
        "    return [item/number_data for item in sum_array]"
      ]
    },
    {
      "cell_type": "markdown",
      "source": [
        "# Results"
      ],
      "metadata": {
        "id": "27UOSiwDXCwl"
      }
    },
    {
      "cell_type": "code",
      "execution_count": 13,
      "metadata": {
        "id": "goycIweh5-nR",
        "colab": {
          "base_uri": "https://localhost:8080/",
          "height": 1000
        },
        "outputId": "373bfe17-7f5a-4603-b011-12c22c4abaf2"
      },
      "outputs": [
        {
          "metadata": {
            "tags": null
          },
          "name": "stdout",
          "output_type": "stream",
          "text": [
            "Distance Metric = Euclidean | Center Name = C1\n",
            "Step = 0, Cost = 395749.8468388532\n",
            "Step = 1, Cost = 318949.51101113483\n",
            "Step = 2, Cost = 316897.8071501825\n",
            "Step = 3, Cost = 327978.22519918176\n",
            "Step = 4, Cost = 333528.0769713639\n",
            "Step = 5, Cost = 334334.41537335224\n",
            "Step = 6, Cost = 334093.90368501254\n",
            "Step = 7, Cost = 333273.4312510706\n",
            "Step = 8, Cost = 331554.1755801971\n",
            "Step = 9, Cost = 329840.47699853603\n",
            "Step = 10, Cost = 328722.7106742206\n",
            "Step = 11, Cost = 328750.6934242609\n",
            "Step = 12, Cost = 329348.7148805231\n",
            "Step = 13, Cost = 329348.8991447655\n",
            "Step = 14, Cost = 329282.30882074387\n",
            "Step = 15, Cost = 329642.62883340573\n",
            "Step = 16, Cost = 329593.37367925036\n",
            "Step = 17, Cost = 329459.8591616328\n",
            "Step = 18, Cost = 329719.50750799815\n",
            "Step = 19, Cost = 330176.9366961528\n",
            "Change cost percent in ten steps 16%\n",
            "\n"
          ]
        },
        {
          "data": {
            "image/png": "[encoded data removed]",
            "text/plain": [
              "<Figure size 432x288 with 1 Axes>"
            ]
          },
          "metadata": {},
          "output_type": "display_data"
        },
        {
          "output_type": "stream",
          "name": "stdout",
          "text": [
            "Distance Metric = Euclidean | Center Name = C2\n",
            "Step = 0, Cost = 1150355.5436059786\n",
            "Step = 1, Cost = 825718.3815378408\n",
            "Step = 2, Cost = 708799.3820943746\n",
            "Step = 3, Cost = 657164.9968611912\n",
            "Step = 4, Cost = 625836.6047303933\n",
            "Step = 5, Cost = 607124.6611016592\n",
            "Step = 6, Cost = 589221.9843275077\n",
            "Step = 7, Cost = 568010.6121654253\n",
            "Step = 8, Cost = 539364.637782208\n",
            "Step = 9, Cost = 515826.6172109743\n",
            "Step = 10, Cost = 498616.298471274\n",
            "Step = 11, Cost = 484873.4854135511\n",
            "Step = 12, Cost = 474576.71495498193\n",
            "Step = 13, Cost = 466189.7460151896\n",
            "Step = 14, Cost = 459349.7074162843\n",
            "Step = 15, Cost = 453778.7245210844\n",
            "Step = 16, Cost = 449818.2257010622\n",
            "Step = 17, Cost = 446966.3756914019\n",
            "Step = 18, Cost = 444163.5018917574\n",
            "Step = 19, Cost = 441696.6980722874\n",
            "Change cost percent in ten steps 56%\n",
            "\n"
          ]
        },
        {
          "output_type": "display_data",
          "data": {
            "text/plain": [
              "<Figure size 432x288 with 1 Axes>"
            ],
            "image/png": "[encoded data removed]"
          },
          "metadata": {
            "needs_background": "light"
          }
        },
        {
          "output_type": "stream",
          "name": "stdout",
          "text": [
            "Distance Metric = Manhatan | Center Name = C1\n",
            "Step = 0, Cost = 565475.4720000032\n",
            "Step = 1, Cost = 466514.2971280042\n",
            "Step = 2, Cost = 470857.75163717516\n",
            "Step = 3, Cost = 483869.30878529814\n",
            "Step = 4, Cost = 489200.84700234374\n",
            "Step = 5, Cost = 487576.0291287648\n",
            "Step = 6, Cost = 483583.2481417699\n",
            "Step = 7, Cost = 475324.8079596467\n",
            "Step = 8, Cost = 474856.0566063218\n",
            "Step = 9, Cost = 457207.7554022045\n",
            "Step = 10, Cost = 447505.25173996756\n",
            "Step = 11, Cost = 450946.12209732604\n",
            "Step = 12, Cost = 451237.9370883775\n",
            "Step = 13, Cost = 451958.97678462823\n",
            "Step = 14, Cost = 451570.36446897686\n",
            "Step = 15, Cost = 452739.01060344203\n",
            "Step = 16, Cost = 453082.7303367916\n",
            "Step = 17, Cost = 450583.67023330537\n",
            "Step = 18, Cost = 450368.7457612367\n",
            "Step = 19, Cost = 449011.3633032016\n",
            "Change cost percent in ten steps 20%\n",
            "\n"
          ]
        },
        {
          "output_type": "display_data",
          "data": {
            "text/plain": [
              "<Figure size 432x288 with 1 Axes>"
            ],
            "image/png": "[encoded data removed]"
          },
          "metadata": {
            "needs_background": "light"
          }
        },
        {
          "output_type": "stream",
          "name": "stdout",
          "text": [
            "Distance Metric = Manhatan | Center Name = C2\n",
            "Step = 0, Cost = 1433739.3099999938\n",
            "Step = 1, Cost = 1084488.7693964501\n",
            "Step = 2, Cost = 973431.7202677557\n",
            "Step = 3, Cost = 895934.5987381018\n",
            "Step = 4, Cost = 865128.3216957817\n",
            "Step = 5, Cost = 845846.65922853\n",
            "Step = 6, Cost = 827219.5871540306\n",
            "Step = 7, Cost = 803590.3411259102\n",
            "Step = 8, Cost = 756039.519582125\n",
            "Step = 9, Cost = 717332.9004420241\n",
            "Step = 10, Cost = 694587.9250391687\n",
            "Step = 11, Cost = 684444.498730303\n",
            "Step = 12, Cost = 674574.7499253174\n",
            "Step = 13, Cost = 667409.4706312704\n",
            "Step = 14, Cost = 663556.6249497061\n",
            "Step = 15, Cost = 660162.7754313725\n",
            "Step = 16, Cost = 656041.3237065368\n",
            "Step = 17, Cost = 653036.7599125181\n",
            "Step = 18, Cost = 651112.4272994011\n",
            "Step = 19, Cost = 649689.017906071\n",
            "Change cost percent in ten steps 51%\n",
            "\n"
          ]
        },
        {
          "output_type": "display_data",
          "data": {
            "text/plain": [
              "<Figure size 432x288 with 1 Axes>"
            ],
            "image/png": "[encoded data removed]"
          },
          "metadata": {
            "needs_background": "light"
          }
        }
      ],
      "source": [
        "for distance_metric_name in [\"Euclidean\", \"Manhatan\"]:\n",
        "  for center, center_name in [(c1_pandas, \"C1\"), (c2_pandas, \"C2\")]:\n",
        "    print(f\"Distance Metric = {distance_metric_name} | Center Name = {center_name}\")\n",
        "\n",
        "    kmeans = SparkKMeans(dataset=dataset_pandas, center=center, description=f\"{center_name}-{distance_metric_name}\", distance_metric_name=distance_metric_name)\n",
        "\n",
        "    kmeans_output = kmeans.run(number_epochs=20)\n",
        "\n",
        "    kmeans.report()    "
      ]
    }
  ],
  "metadata": {
    "colab": {
      "collapsed_sections": [],
      "name": "BigData_HW2_Q3.ipynb",
      "toc_visible": true,
      "provenance": [],
      "authorship_tag": "ABX9TyOdpRH1YzKO5G28a3NObKbY",
      "include_colab_link": true
    },
    "kernelspec": {
      "display_name": "Python 3",
      "name": "python3"
    },
    "language_info": {
      "name": "python"
    }
  },
  "nbformat": 4,
  "nbformat_minor": 0
}