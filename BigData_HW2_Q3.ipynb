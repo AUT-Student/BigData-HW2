{
  "cells": [
    {
      "cell_type": "markdown",
      "metadata": {
        "id": "view-in-github",
        "colab_type": "text"
      },
      "source": [
        "<a href=\"https://colab.research.google.com/github/AUT-Student/BigData-HW2/blob/main/BigData_HW2_Q3.ipynb\" target=\"_parent\"><img src=\"https://colab.research.google.com/assets/colab-badge.svg\" alt=\"Open In Colab\"/></a>"
      ]
    },
    {
      "cell_type": "markdown",
      "metadata": {
        "id": "yxHwdeF1-qJo"
      },
      "source": [
        "<center><b>In the name of God</b></center>\n",
        "\n",
        "<b>Course</b>: ‌Big Data\n",
        "<br>\n",
        "<b>Description:</b> HomeWork 1 | Question 3\n",
        "<br>\n",
        "<b>Developer</b>: Alireza Mazochi (400131075)"
      ]
    },
    {
      "cell_type": "markdown",
      "metadata": {
        "id": "zjwNOXx36Dsf"
      },
      "source": [
        "# PySpark Setting"
      ]
    },
    {
      "cell_type": "code",
      "execution_count": 1,
      "metadata": {
        "colab": {
          "base_uri": "https://localhost:8080/"
        },
        "id": "Ktq9IKkWA0rl",
        "outputId": "eb821fce-dbe0-4275-99d9-0e9e8b5c913b"
      },
      "outputs": [
        {
          "output_type": "stream",
          "name": "stdout",
          "text": [
            "Requirement already satisfied: pyspark in /usr/local/lib/python3.7/dist-packages (3.2.1)\n",
            "Requirement already satisfied: py4j==0.10.9.3 in /usr/local/lib/python3.7/dist-packages (from pyspark) (0.10.9.3)\n"
          ]
        }
      ],
      "source": [
        "!pip install pyspark"
      ]
    },
    {
      "cell_type": "code",
      "execution_count": 2,
      "metadata": {
        "id": "ZFrL47YaFO--"
      },
      "outputs": [],
      "source": [
        "from pyspark.sql import SparkSession\n",
        "\n",
        "spark = SparkSession.builder\\\n",
        "        .master(\"local\")\\\n",
        "        .appName(\"Colab\")\\\n",
        "        .config('spark.ui.port', '4050')\\\n",
        "        .getOrCreate()"
      ]
    },
    {
      "cell_type": "code",
      "execution_count": 3,
      "metadata": {
        "colab": {
          "base_uri": "https://localhost:8080/",
          "height": 220
        },
        "id": "5o84n08UFUht",
        "outputId": "fd22d217-33ce-4699-b7de-f214681e2de3"
      },
      "outputs": [
        {
          "output_type": "execute_result",
          "data": {
            "text/plain": [
              "<pyspark.sql.session.SparkSession at 0x7ff6d7aba0d0>"
            ],
            "text/html": [
              "\n",
              "            <div>\n",
              "                <p><b>SparkSession - in-memory</b></p>\n",
              "                \n",
              "        <div>\n",
              "            <p><b>SparkContext</b></p>\n",
              "\n",
              "            <p><a href=\"http://5296242dc284:4050\">Spark UI</a></p>\n",
              "\n",
              "            <dl>\n",
              "              <dt>Version</dt>\n",
              "                <dd><code>v3.2.1</code></dd>\n",
              "              <dt>Master</dt>\n",
              "                <dd><code>local</code></dd>\n",
              "              <dt>AppName</dt>\n",
              "                <dd><code>Colab</code></dd>\n",
              "            </dl>\n",
              "        </div>\n",
              "        \n",
              "            </div>\n",
              "        "
            ]
          },
          "metadata": {},
          "execution_count": 3
        }
      ],
      "source": [
        "spark"
      ]
    },
    {
      "cell_type": "markdown",
      "metadata": {
        "id": "8LHXWazaRs3E"
      },
      "source": [
        "# Libraries"
      ]
    },
    {
      "cell_type": "code",
      "execution_count": 4,
      "metadata": {
        "id": "0uXhhYydRnkU"
      },
      "outputs": [],
      "source": [
        "import pandas as pd\n",
        "import numpy as np\n",
        "import matplotlib.pyplot as plt"
      ]
    },
    {
      "cell_type": "code",
      "execution_count": 5,
      "metadata": {
        "id": "qivL6A9Tqg2N"
      },
      "outputs": [],
      "source": [
        "from pyspark.sql.types import FloatType, ArrayType, IntegerType\n",
        "from pyspark.sql.functions import udf\n",
        "import pyspark.sql.functions as f\n",
        "from pyspark.sql import Window"
      ]
    },
    {
      "cell_type": "markdown",
      "metadata": {
        "id": "kZ76wnApRwx7"
      },
      "source": [
        "# Dataset"
      ]
    },
    {
      "cell_type": "code",
      "execution_count": 6,
      "metadata": {
        "colab": {
          "base_uri": "https://localhost:8080/"
        },
        "id": "Gm-3RyhoRxdB",
        "outputId": "6b078343-a767-40a3-f313-ff097fa1bc4f"
      },
      "outputs": [
        {
          "output_type": "stream",
          "name": "stdout",
          "text": [
            "Downloading...\n",
            "From: https://drive.google.com/uc?id=1PdXgb4w0gtsocKHmeGQ_zPfb3VbW9YhL\n",
            "To: /content/Bigdata_hw2_datasets.zip\n",
            "\r  0% 0.00/6.28M [00:00<?, ?B/s]\r100% 6.28M/6.28M [00:00<00:00, 167MB/s]\n",
            "Archive:  /content/Bigdata_hw2_datasets.zip\n",
            "replace Bigdata_hw2_datasets/q1/stream_data_dgim.txt? [y]es, [n]o, [A]ll, [N]one, [r]ename: A\n",
            "  inflating: Bigdata_hw2_datasets/q1/stream_data_dgim.txt  \n",
            "  inflating: Bigdata_hw2_datasets/q2/games.csv  \n",
            "  inflating: Bigdata_hw2_datasets/q2/ratings.csv  \n",
            "  inflating: Bigdata_hw2_datasets/q3/c1.txt  \n",
            "  inflating: Bigdata_hw2_datasets/q3/c2.txt  \n",
            "  inflating: Bigdata_hw2_datasets/q3/data.txt  \n"
          ]
        }
      ],
      "source": [
        "!gdown 1PdXgb4w0gtsocKHmeGQ_zPfb3VbW9YhL\n",
        "!unzip /content/Bigdata_hw2_datasets.zip"
      ]
    },
    {
      "cell_type": "code",
      "execution_count": 7,
      "metadata": {
        "id": "UC2ZjPAdZH5Z"
      },
      "outputs": [],
      "source": [
        "dataset_pandas = pd.read_csv(\"/content/Bigdata_hw2_datasets/q3/data.txt\", header=None, names=[\"data\"])\n",
        "dataset_pandas[\"data\"] = dataset_pandas[\"data\"].apply(lambda x:x.split(\" \"))\n",
        "dataset_pandas[\"data\"] = dataset_pandas[\"data\"].apply(lambda item: [float(x) for x in item])\n",
        "dataset_pandas[\"data-id\"] = range(len(dataset_pandas))\n",
        "\n",
        "c1_pandas = pd.read_csv(\"/content/Bigdata_hw2_datasets/q3/c1.txt\", header=None, names=[\"center\"])\n",
        "c1_pandas[\"center\"] = c1_pandas[\"center\"].apply(lambda x:x.split(\" \"))\n",
        "c1_pandas[\"center\"] = c1_pandas[\"center\"].apply(lambda item: [float(x) for x in item])\n",
        "c1_pandas[\"center-id\"] = range(len(c1_pandas))\n",
        "\n",
        "c2_pandas = pd.read_csv(\"/content/Bigdata_hw2_datasets/q3/c2.txt\", header=None, names=[\"center\"])\n",
        "c2_pandas[\"center\"] = c2_pandas[\"center\"].apply(lambda x:x.split(\" \"))\n",
        "c2_pandas[\"center\"] = c2_pandas[\"center\"].apply(lambda item: [float(x) for x in item])\n",
        "c2_pandas[\"center-id\"] = range(len(c2_pandas))"
      ]
    },
    {
      "cell_type": "code",
      "execution_count": 8,
      "metadata": {
        "id": "77e97t5xTHJB"
      },
      "outputs": [],
      "source": [
        "NUMBER_FEATURES = len(dataset_pandas[\"data\"].values[0])"
      ]
    },
    {
      "cell_type": "markdown",
      "metadata": {
        "id": "byPoiD53ZTLg"
      },
      "source": [
        "# KMeans"
      ]
    },
    {
      "cell_type": "code",
      "execution_count": 9,
      "metadata": {
        "id": "ZBivr3T11vDd"
      },
      "outputs": [],
      "source": [
        "class SparkKMeans():\n",
        "  def __init__(self, dataset, center, description, distance_metric_name):\n",
        "    self.dataset_spark = spark.createDataFrame(dataset)\n",
        "    self.center_spark = spark.createDataFrame(center)\n",
        "    self.description = description\n",
        "\n",
        "    if distance_metric_name == \"Euclidean\":\n",
        "      self.distance_metric = self.euclidean_distance\n",
        "    elif distance_metric_name == \"Manhatan\":\n",
        "      self.distance_metric = self.manhatan_distance\n",
        "    else:\n",
        "      raise Exception(\"Invalid distance_metric_name!\")\n",
        "\n",
        "  def run(self, number_steps):\n",
        "    self.number_steps = number_steps\n",
        "    self.costs = []\n",
        "    for step in range(number_steps):\n",
        "      data_center_spark = self.dataset_spark.join(self.center_spark)\\\n",
        "                              .withColumn('distance', self.distance_metric(self.dataset_spark.data, self.center_spark.center))\n",
        "\n",
        "      data_center_spark = data_center_spark.withColumn(\"min-distance\", f.min(\"distance\")\\\n",
        "                                           .over(Window.partitionBy(\"data-id\")))\\\n",
        "                                           .where(f.col(\"min-distance\") == f.col(\"distance\"))\\\n",
        "                                           .drop(*[\"min-distance\", \"center\"])\n",
        "\n",
        "\n",
        "      step_cost = data_center_spark.withColumn(\"sum-distance\", f.col(\"distance\")**2)\\\n",
        "                                   .select(\"sum-distance\")\\\n",
        "                                   .groupBy().sum().collect()[0][0]\n",
        "\n",
        "      self.costs.append(step_cost)\n",
        "      print(f\"Step = {step}, Cost = {step_cost}\")\n",
        "\n",
        "      data_center_mapping = data_center_spark.drop(*[\"data\", \"distance\"])\\\n",
        "                                             .toDF(\"data-id\", \"center-id\")\\\n",
        "                                             .toPandas()\n",
        "      \n",
        "      data_center_spark = data_center_spark.groupBy(\"center-id\")\\\n",
        "                                           .agg(f.collect_list(\"data\")\\\n",
        "                                           .alias(\"data-list\"))\n",
        "\n",
        "      array_mean_udf = udf(self.array_mean, ArrayType(FloatType()))\n",
        "\n",
        "      self.center_spark = data_center_spark.select(\"center-id\", array_mean_udf(\"data-list\")\\\n",
        "                                           .alias(\"center\"))\n",
        "\n",
        "    return data_center_mapping\n",
        "\n",
        "  def report(self):\n",
        "    print(f\"Change cost percent in ten steps {int((self.costs[0] - self.costs[10]) / self.costs[0] * 100)}%\\n\") \n",
        "\n",
        "    plt.scatter(range(1, self.number_steps+1), self.costs)\n",
        "    plt.plot(range(1, self.number_steps+1), self.costs)\n",
        "    plt.xlabel(\"Step\")\n",
        "    plt.ylabel(\"Cost\")\n",
        "    plt.title(f\"Change Cost in KMeans\\n{self.description}\")\n",
        "    plt.show()\n",
        "\n",
        "  @staticmethod\n",
        "  def euclidean_distance(a, b):\n",
        "    distance = 0\n",
        "    for i in range(NUMBER_FEATURES):\n",
        "      distance += (a[i] - b[i]) ** 2\n",
        "    return distance ** 0.5\n",
        "\n",
        "  @staticmethod\n",
        "  def manhatan_distance(a, b):\n",
        "    distance = 0\n",
        "    for i in range(NUMBER_FEATURES):\n",
        "      distance += f.abs(a[i] - b[i])\n",
        "    return distance\n",
        "\n",
        "  @staticmethod\n",
        "  def array_mean(x):\n",
        "    number_data = len([i for i in zip(*x)][0])\n",
        "    sum_array = [sum(i) for i in zip(*x)]\n",
        "    return [item/number_data for item in sum_array]"
      ]
    },
    {
      "cell_type": "markdown",
      "metadata": {
        "id": "27UOSiwDXCwl"
      },
      "source": [
        "# Results"
      ]
    },
    {
      "cell_type": "code",
      "execution_count": null,
      "metadata": {
        "colab": {
          "base_uri": "https://localhost:8080/"
        },
        "id": "goycIweh5-nR",
        "outputId": "9bc6c038-0da8-4c14-ad89-2298784823c7"
      },
      "outputs": [
        {
          "output_type": "stream",
          "name": "stdout",
          "text": [
            "Distance Metric = Euclidean | Center Name = C1\n",
            "Step = 0, Cost = 623660345.3064235\n",
            "Step = 1, Cost = 509862910.53849345\n",
            "Step = 2, Cost = 485480688.18347406\n",
            "Step = 3, Cost = 463997009.2097292\n",
            "Step = 4, Cost = 460969266.6840041\n",
            "Step = 5, Cost = 460537848.1230785\n",
            "Step = 6, Cost = 460313099.4867738\n",
            "Step = 7, Cost = 460003523.95227706\n"
          ]
        }
      ],
      "source": [
        "for distance_metric_name in [\"Euclidean\", \"Manhatan\"]:\n",
        "  for center, center_name in [(c1_pandas, \"C1\"), (c2_pandas, \"C2\")]:\n",
        "    print(f\"Distance Metric = {distance_metric_name} | Center Name = {center_name}\")\n",
        "\n",
        "    kmeans = SparkKMeans(dataset=dataset_pandas, center=center,\n",
        "                         description=f\"{center_name}-{distance_metric_name}\",\n",
        "                         distance_metric_name=distance_metric_name)\n",
        "\n",
        "    kmeans_output = kmeans.run(number_steps=20)\n",
        "\n",
        "    kmeans.report()    "
      ]
    }
  ],
  "metadata": {
    "colab": {
      "collapsed_sections": [],
      "name": "BigData_HW2_Q3.ipynb",
      "toc_visible": true,
      "provenance": [],
      "authorship_tag": "ABX9TyNPIkzJ/yyVd6268+Qr7PhL",
      "include_colab_link": true
    },
    "kernelspec": {
      "display_name": "Python 3",
      "name": "python3"
    },
    "language_info": {
      "name": "python"
    }
  },
  "nbformat": 4,
  "nbformat_minor": 0
}