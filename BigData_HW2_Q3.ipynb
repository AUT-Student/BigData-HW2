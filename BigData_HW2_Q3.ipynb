{
  "nbformat": 4,
  "nbformat_minor": 0,
  "metadata": {
    "colab": {
      "name": "BigData_HW2_Q3.ipynb",
      "provenance": [],
      "toc_visible": true,
      "authorship_tag": "ABX9TyOZ53BsvHDdNaLL7Y2pB1xe",
      "include_colab_link": true
    },
    "kernelspec": {
      "name": "python3",
      "display_name": "Python 3"
    },
    "language_info": {
      "name": "python"
    }
  },
  "cells": [
    {
      "cell_type": "markdown",
      "metadata": {
        "id": "view-in-github",
        "colab_type": "text"
      },
      "source": [
        "<a href=\"https://colab.research.google.com/github/AUT-Student/BigData-HW2/blob/main/BigData_HW2_Q3.ipynb\" target=\"_parent\"><img src=\"https://colab.research.google.com/assets/colab-badge.svg\" alt=\"Open In Colab\"/></a>"
      ]
    },
    {
      "cell_type": "markdown",
      "source": [
        "# PySpark Setting"
      ],
      "metadata": {
        "id": "zjwNOXx36Dsf"
      }
    },
    {
      "cell_type": "code",
      "source": [
        "!pip install pyspark"
      ],
      "metadata": {
        "colab": {
          "base_uri": "https://localhost:8080/"
        },
        "id": "Ktq9IKkWA0rl",
        "outputId": "8a4e76e6-c54f-4825-cd17-1a4dbb3af56a"
      },
      "execution_count": null,
      "outputs": [
        {
          "output_type": "stream",
          "name": "stdout",
          "text": [
            "Collecting pyspark\n",
            "  Downloading pyspark-3.2.1.tar.gz (281.4 MB)\n",
            "\u001b[K     |████████████████████████████████| 281.4 MB 24 kB/s \n",
            "\u001b[?25hCollecting py4j==0.10.9.3\n",
            "  Downloading py4j-0.10.9.3-py2.py3-none-any.whl (198 kB)\n",
            "\u001b[K     |████████████████████████████████| 198 kB 45.6 MB/s \n",
            "\u001b[?25hBuilding wheels for collected packages: pyspark\n",
            "  Building wheel for pyspark (setup.py) ... \u001b[?25l\u001b[?25hdone\n",
            "  Created wheel for pyspark: filename=pyspark-3.2.1-py2.py3-none-any.whl size=281853642 sha256=17aed0a6c4c9a7445a59033ffbabdab7cc7bcd15220b3ff4ff2f594f780e568e\n",
            "  Stored in directory: /root/.cache/pip/wheels/9f/f5/07/7cd8017084dce4e93e84e92efd1e1d5334db05f2e83bcef74f\n",
            "Successfully built pyspark\n",
            "Installing collected packages: py4j, pyspark\n",
            "Successfully installed py4j-0.10.9.3 pyspark-3.2.1\n"
          ]
        }
      ]
    },
    {
      "cell_type": "code",
      "source": [
        "from pyspark.sql import SparkSession\n",
        "\n",
        "spark = SparkSession.builder\\\n",
        "        .master(\"local\")\\\n",
        "        .appName(\"Colab\")\\\n",
        "        .config('spark.ui.port', '4050')\\\n",
        "        .getOrCreate()"
      ],
      "metadata": {
        "id": "ZFrL47YaFO--"
      },
      "execution_count": null,
      "outputs": []
    },
    {
      "cell_type": "code",
      "source": [
        "spark"
      ],
      "metadata": {
        "colab": {
          "base_uri": "https://localhost:8080/",
          "height": 219
        },
        "id": "5o84n08UFUht",
        "outputId": "e91f898d-b732-423a-f175-30e9ebd01ed7"
      },
      "execution_count": null,
      "outputs": [
        {
          "output_type": "execute_result",
          "data": {
            "text/plain": [
              "<pyspark.sql.session.SparkSession at 0x7f504a625ad0>"
            ],
            "text/html": [
              "\n",
              "            <div>\n",
              "                <p><b>SparkSession - in-memory</b></p>\n",
              "                \n",
              "        <div>\n",
              "            <p><b>SparkContext</b></p>\n",
              "\n",
              "            <p><a href=\"http://5862df3f08c9:4050\">Spark UI</a></p>\n",
              "\n",
              "            <dl>\n",
              "              <dt>Version</dt>\n",
              "                <dd><code>v3.2.1</code></dd>\n",
              "              <dt>Master</dt>\n",
              "                <dd><code>local</code></dd>\n",
              "              <dt>AppName</dt>\n",
              "                <dd><code>Colab</code></dd>\n",
              "            </dl>\n",
              "        </div>\n",
              "        \n",
              "            </div>\n",
              "        "
            ]
          },
          "metadata": {},
          "execution_count": 3
        }
      ]
    },
    {
      "cell_type": "markdown",
      "source": [
        "# Libraries"
      ],
      "metadata": {
        "id": "8LHXWazaRs3E"
      }
    },
    {
      "cell_type": "code",
      "execution_count": null,
      "metadata": {
        "id": "0uXhhYydRnkU"
      },
      "outputs": [],
      "source": [
        "import pandas as pd\n",
        "import numpy as np"
      ]
    },
    {
      "cell_type": "code",
      "source": [
        "from pyspark.sql.types import FloatType, ArrayType, IntegerType\n",
        "from pyspark.sql.functions import udf\n",
        "import pyspark.sql.functions as f\n",
        "from pyspark.sql import Window"
      ],
      "metadata": {
        "id": "qivL6A9Tqg2N"
      },
      "execution_count": 219,
      "outputs": []
    },
    {
      "cell_type": "markdown",
      "source": [
        "# Dataset"
      ],
      "metadata": {
        "id": "kZ76wnApRwx7"
      }
    },
    {
      "cell_type": "code",
      "source": [
        "!gdown 1PdXgb4w0gtsocKHmeGQ_zPfb3VbW9YhL\n",
        "!unzip /content/Bigdata_hw2_datasets.zip"
      ],
      "metadata": {
        "colab": {
          "base_uri": "https://localhost:8080/"
        },
        "id": "Gm-3RyhoRxdB",
        "outputId": "cad66e34-0ddd-4848-a616-a3fb62f0321b"
      },
      "execution_count": null,
      "outputs": [
        {
          "output_type": "stream",
          "name": "stdout",
          "text": [
            "Downloading...\n",
            "From: https://drive.google.com/uc?id=1PdXgb4w0gtsocKHmeGQ_zPfb3VbW9YhL\n",
            "To: /content/Bigdata_hw2_datasets.zip\n",
            "\r  0% 0.00/6.28M [00:00<?, ?B/s]\r 75% 4.72M/6.28M [00:00<00:00, 32.4MB/s]\r100% 6.28M/6.28M [00:00<00:00, 41.6MB/s]\n",
            "Archive:  /content/Bigdata_hw2_datasets.zip\n",
            "   creating: Bigdata_hw2_datasets/\n",
            "   creating: Bigdata_hw2_datasets/q1/\n",
            "  inflating: Bigdata_hw2_datasets/q1/stream_data_dgim.txt  \n",
            "   creating: Bigdata_hw2_datasets/q2/\n",
            "  inflating: Bigdata_hw2_datasets/q2/games.csv  \n",
            "  inflating: Bigdata_hw2_datasets/q2/ratings.csv  \n",
            "   creating: Bigdata_hw2_datasets/q3/\n",
            "  inflating: Bigdata_hw2_datasets/q3/c1.txt  \n",
            "  inflating: Bigdata_hw2_datasets/q3/c2.txt  \n",
            "  inflating: Bigdata_hw2_datasets/q3/data.txt  \n"
          ]
        }
      ]
    },
    {
      "cell_type": "code",
      "source": [
        "dataset_pandas = pd.read_csv(\"/content/Bigdata_hw2_datasets/q3/data.txt\", header=None, names=[\"data\"])\n",
        "dataset_pandas[\"data\"] = dataset_pandas[\"data\"].apply(lambda x:x.split(\" \"))\n",
        "dataset_pandas[\"data\"] = dataset_pandas[\"data\"].apply(lambda item: [float(x) for x in item])\n",
        "\n",
        "c1_pandas = pd.read_csv(\"/content/Bigdata_hw2_datasets/q3/c1.txt\", header=None, names=[\"center\"])\n",
        "c1_pandas[\"center\"] = c1_pandas[\"center\"].apply(lambda x:x.split(\" \"))\n",
        "c1_pandas[\"center\"] = c1_pandas[\"center\"].apply(lambda item: [float(x) for x in item])\n",
        "\n",
        "c2_pandas = pd.read_csv(\"/content/Bigdata_hw2_datasets/q3/c2.txt\", header=None, names=[\"center\"])\n",
        "c2_pandas[\"center\"] = c2_pandas[\"center\"].apply(lambda x:x.split(\" \"))\n",
        "c2_pandas[\"center\"] = c2_pandas[\"center\"].apply(lambda item: [float(x) for x in item])"
      ],
      "metadata": {
        "id": "UC2ZjPAdZH5Z"
      },
      "execution_count": null,
      "outputs": []
    },
    {
      "cell_type": "code",
      "source": [
        "dataset_pandas[\"data-id\"] = range(len(dataset_pandas))\n",
        "c1_pandas[\"center-id\"] = range(len(c1_pandas))"
      ],
      "metadata": {
        "id": "o6AqiXeQUV1w"
      },
      "execution_count": null,
      "outputs": []
    },
    {
      "cell_type": "code",
      "source": [
        "dataset_spark = spark.createDataFrame(dataset_pandas)\n",
        "center_spark = spark.createDataFrame(c1_pandas)"
      ],
      "metadata": {
        "id": "FPUv6ijkpsYj"
      },
      "execution_count": null,
      "outputs": []
    },
    {
      "cell_type": "code",
      "source": [
        "NUMBER_FEATURES = 58"
      ],
      "metadata": {
        "id": "77e97t5xTHJB"
      },
      "execution_count": null,
      "outputs": []
    },
    {
      "cell_type": "markdown",
      "source": [
        "# KMeans"
      ],
      "metadata": {
        "id": "byPoiD53ZTLg"
      }
    },
    {
      "cell_type": "code",
      "source": [
        "def euclidean_distance(a, b):\n",
        "  distance = 0\n",
        "  for i in range(NUMBER_FEATURES):\n",
        "    distance += (a[i] - b[i]) ** 2\n",
        "  return distance ** 0.5"
      ],
      "metadata": {
        "id": "BCpo75S1qxla"
      },
      "execution_count": null,
      "outputs": []
    },
    {
      "cell_type": "code",
      "source": [
        "data_center_spark = dataset_spark.join(center_spark).withColumn('distance', euclidean_distance(dataset_spark.data, center_spark.center))"
      ],
      "metadata": {
        "id": "sb_GK1gYdG3X"
      },
      "execution_count": 196,
      "outputs": []
    },
    {
      "cell_type": "code",
      "source": [
        "data_center_spark = data_center_spark.withColumn(\"min-distance\", f.min(\"distance\").over(Window.partitionBy(\"data-id\")))\\\n",
        "                                    .where(f.col(\"min-distance\") == f.col(\"distance\"))\\\n",
        "                                    .drop(*[\"distance\", \"min-distance\", \"center\"])"
      ],
      "metadata": {
        "id": "1vHQd_kcQz64"
      },
      "execution_count": 197,
      "outputs": []
    },
    {
      "cell_type": "code",
      "source": [
        "data_center_spark = data_center_spark.groupBy(\"center-id\").agg(f.collect_list(\"data\").alias(\"data-list\"))"
      ],
      "metadata": {
        "id": "Uuwzf1mCab8n"
      },
      "execution_count": 198,
      "outputs": []
    },
    {
      "cell_type": "code",
      "source": [
        "data_center_spark.show()"
      ],
      "metadata": {
        "colab": {
          "base_uri": "https://localhost:8080/"
        },
        "id": "zigIVofJb4IR",
        "outputId": "8050de0d-8f3e-4af8-e1a1-34fbef58498e"
      },
      "execution_count": 199,
      "outputs": [
        {
          "output_type": "stream",
          "name": "stdout",
          "text": [
            "+---------+--------------------+\n",
            "|center-id|           data-list|\n",
            "+---------+--------------------+\n",
            "|        0|[[0.0, 0.64, 0.64...|\n",
            "|        7|[[0.0, 0.0, 0.0, ...|\n",
            "|        6|[[0.0, 0.0, 0.0, ...|\n",
            "|        9|[[0.06, 0.12, 0.7...|\n",
            "|        5|[[0.0, 0.0, 0.0, ...|\n",
            "|        1|[[0.21, 0.28, 0.5...|\n",
            "|        3|[[0.0, 0.0, 0.0, ...|\n",
            "|        8|[[0.15, 0.0, 0.46...|\n",
            "|        2|[[0.06, 0.0, 0.71...|\n",
            "|        4|[[0.0, 0.0, 0.0, ...|\n",
            "+---------+--------------------+\n",
            "\n"
          ]
        }
      ]
    },
    {
      "cell_type": "code",
      "source": [
        ""
      ],
      "metadata": {
        "id": "o1t7oAOJx9OP"
      },
      "execution_count": null,
      "outputs": []
    },
    {
      "cell_type": "code",
      "source": [
        "data_center_spark.select(f.size(f.col(\"data-list\"))).show()"
      ],
      "metadata": {
        "colab": {
          "base_uri": "https://localhost:8080/"
        },
        "id": "Z5rwdI8RzwI4",
        "outputId": "680438d1-9021-4dd6-bc71-8ab78eef5e6d"
      },
      "execution_count": 223,
      "outputs": [
        {
          "output_type": "stream",
          "name": "stdout",
          "text": [
            "+---------------+\n",
            "|size(data-list)|\n",
            "+---------------+\n",
            "|            594|\n",
            "|           1566|\n",
            "|            708|\n",
            "|            286|\n",
            "|            597|\n",
            "|            155|\n",
            "|            226|\n",
            "|            124|\n",
            "|            105|\n",
            "|            240|\n",
            "+---------------+\n",
            "\n"
          ]
        }
      ]
    },
    {
      "cell_type": "code",
      "source": [
        "def array_mean(x):\n",
        "  number_data = len([i for i in zip(*x)][0])\n",
        "  sum_array = [sum(i) for i in zip(*x)]\n",
        "  return [item/number_data for item in sum_array]\n",
        "\n",
        "array_mean_udf = udf(array_mean, ArrayType(FloatType()))"
      ],
      "metadata": {
        "id": "G3bG6UlJlimx"
      },
      "execution_count": 240,
      "outputs": []
    },
    {
      "cell_type": "code",
      "source": [
        "data_center_spark.select(\"center-id\", array_mean_udf(\"data-list\").alias(\"center\"))"
      ],
      "metadata": {
        "id": "Jxgpn9PEcNoo",
        "colab": {
          "base_uri": "https://localhost:8080/"
        },
        "outputId": "d974982c-397b-4bb6-aa76-bed770590301"
      },
      "execution_count": 245,
      "outputs": [
        {
          "output_type": "stream",
          "name": "stdout",
          "text": [
            "+---------+--------------------+\n",
            "|center-id|              center|\n",
            "+---------+--------------------+\n",
            "|        0|[0.11368687, 0.13...|\n",
            "|        7|[0.06644317, 0.38...|\n",
            "|        6|[0.117189266, 0.1...|\n",
            "|        9|[0.14741258, 0.15...|\n",
            "|        5|[0.119798996, 0.0...|\n",
            "|        1|[0.10509677, 0.13...|\n",
            "|        3|[0.11137168, 0.16...|\n",
            "|        8|[0.22782259, 0.25...|\n",
            "|        2|[0.2707619, 0.182...|\n",
            "|        4|[0.061166666, 0.1...|\n",
            "+---------+--------------------+\n",
            "\n"
          ]
        }
      ]
    },
    {
      "cell_type": "code",
      "source": [
        "# from pyspark.sql.functions import col, array, size, sum as sum_\n",
        "\n",
        "# n = df.select(size(\"values\")).first()[0]\n",
        "# df = sc.parallelize([(1, [1, 2, 3]), (1, [4, 5, 6])]).toDF([\"store\", \"values\"])\n",
        "# df.groupBy(\"store\").agg(array(*[\n",
        "#     sum_(col(\"values\").getItem(i)) for i in range(n)]).alias(\"values\"))"
      ],
      "metadata": {
        "colab": {
          "base_uri": "https://localhost:8080/",
          "height": 235
        },
        "id": "Q5K0qshXlxcN",
        "outputId": "73d2d301-0697-43dc-d10b-e9cdc056279a"
      },
      "execution_count": 226,
      "outputs": [
        {
          "output_type": "error",
          "ename": "NameError",
          "evalue": "ignored",
          "traceback": [
            "\u001b[0;31m---------------------------------------------------------------------------\u001b[0m",
            "\u001b[0;31mNameError\u001b[0m                                 Traceback (most recent call last)",
            "\u001b[0;32m<ipython-input-226-94783d87e175>\u001b[0m in \u001b[0;36m<module>\u001b[0;34m()\u001b[0m\n\u001b[1;32m      1\u001b[0m \u001b[0;32mfrom\u001b[0m \u001b[0mpyspark\u001b[0m\u001b[0;34m.\u001b[0m\u001b[0msql\u001b[0m\u001b[0;34m.\u001b[0m\u001b[0mfunctions\u001b[0m \u001b[0;32mimport\u001b[0m \u001b[0mcol\u001b[0m\u001b[0;34m,\u001b[0m \u001b[0marray\u001b[0m\u001b[0;34m,\u001b[0m \u001b[0msize\u001b[0m\u001b[0;34m,\u001b[0m \u001b[0msum\u001b[0m \u001b[0;32mas\u001b[0m \u001b[0msum_\u001b[0m\u001b[0;34m\u001b[0m\u001b[0;34m\u001b[0m\u001b[0m\n\u001b[1;32m      2\u001b[0m \u001b[0;34m\u001b[0m\u001b[0m\n\u001b[0;32m----> 3\u001b[0;31m \u001b[0mn\u001b[0m \u001b[0;34m=\u001b[0m \u001b[0mdf\u001b[0m\u001b[0;34m.\u001b[0m\u001b[0mselect\u001b[0m\u001b[0;34m(\u001b[0m\u001b[0msize\u001b[0m\u001b[0;34m(\u001b[0m\u001b[0;34m\"values\"\u001b[0m\u001b[0;34m)\u001b[0m\u001b[0;34m)\u001b[0m\u001b[0;34m.\u001b[0m\u001b[0mfirst\u001b[0m\u001b[0;34m(\u001b[0m\u001b[0;34m)\u001b[0m\u001b[0;34m[\u001b[0m\u001b[0;36m0\u001b[0m\u001b[0;34m]\u001b[0m\u001b[0;34m\u001b[0m\u001b[0;34m\u001b[0m\u001b[0m\n\u001b[0m\u001b[1;32m      4\u001b[0m \u001b[0mdf\u001b[0m \u001b[0;34m=\u001b[0m \u001b[0msc\u001b[0m\u001b[0;34m.\u001b[0m\u001b[0mparallelize\u001b[0m\u001b[0;34m(\u001b[0m\u001b[0;34m[\u001b[0m\u001b[0;34m(\u001b[0m\u001b[0;36m1\u001b[0m\u001b[0;34m,\u001b[0m \u001b[0;34m[\u001b[0m\u001b[0;36m1\u001b[0m\u001b[0;34m,\u001b[0m \u001b[0;36m2\u001b[0m\u001b[0;34m,\u001b[0m \u001b[0;36m3\u001b[0m\u001b[0;34m]\u001b[0m\u001b[0;34m)\u001b[0m\u001b[0;34m,\u001b[0m \u001b[0;34m(\u001b[0m\u001b[0;36m1\u001b[0m\u001b[0;34m,\u001b[0m \u001b[0;34m[\u001b[0m\u001b[0;36m4\u001b[0m\u001b[0;34m,\u001b[0m \u001b[0;36m5\u001b[0m\u001b[0;34m,\u001b[0m \u001b[0;36m6\u001b[0m\u001b[0;34m]\u001b[0m\u001b[0;34m)\u001b[0m\u001b[0;34m]\u001b[0m\u001b[0;34m)\u001b[0m\u001b[0;34m.\u001b[0m\u001b[0mtoDF\u001b[0m\u001b[0;34m(\u001b[0m\u001b[0;34m[\u001b[0m\u001b[0;34m\"store\"\u001b[0m\u001b[0;34m,\u001b[0m \u001b[0;34m\"values\"\u001b[0m\u001b[0;34m]\u001b[0m\u001b[0;34m)\u001b[0m\u001b[0;34m\u001b[0m\u001b[0;34m\u001b[0m\u001b[0m\n\u001b[1;32m      5\u001b[0m df.groupBy(\"store\").agg(array(*[\n",
            "\u001b[0;31mNameError\u001b[0m: name 'df' is not defined"
          ]
        }
      ]
    },
    {
      "cell_type": "code",
      "source": [
        ""
      ],
      "metadata": {
        "id": "VFqSAydo1jHd"
      },
      "execution_count": null,
      "outputs": []
    }
  ]
}