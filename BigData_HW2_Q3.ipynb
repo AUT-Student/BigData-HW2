{
  "nbformat": 4,
  "nbformat_minor": 0,
  "metadata": {
    "colab": {
      "name": "BigData_HW2_Q3.ipynb",
      "provenance": [],
      "toc_visible": true,
      "authorship_tag": "ABX9TyPJupal1Y1CMTurdTztZ+oe",
      "include_colab_link": true
    },
    "kernelspec": {
      "name": "python3",
      "display_name": "Python 3"
    },
    "language_info": {
      "name": "python"
    }
  },
  "cells": [
    {
      "cell_type": "markdown",
      "metadata": {
        "id": "view-in-github",
        "colab_type": "text"
      },
      "source": [
        "<a href=\"https://colab.research.google.com/github/AUT-Student/BigData-HW2/blob/main/BigData_HW2_Q3.ipynb\" target=\"_parent\"><img src=\"https://colab.research.google.com/assets/colab-badge.svg\" alt=\"Open In Colab\"/></a>"
      ]
    },
    {
      "cell_type": "markdown",
      "source": [
        "# PySpark Setting"
      ],
      "metadata": {
        "id": "zjwNOXx36Dsf"
      }
    },
    {
      "cell_type": "code",
      "source": [
        "!pip install pyspark"
      ],
      "metadata": {
        "colab": {
          "base_uri": "https://localhost:8080/"
        },
        "id": "Ktq9IKkWA0rl",
        "outputId": "2608fdf9-a201-4645-9fb8-be8469dd9fea"
      },
      "execution_count": 1,
      "outputs": [
        {
          "output_type": "stream",
          "name": "stdout",
          "text": [
            "Collecting pyspark\n",
            "  Downloading pyspark-3.2.1.tar.gz (281.4 MB)\n",
            "\u001b[K     |████████████████████████████████| 281.4 MB 25 kB/s \n",
            "\u001b[?25hCollecting py4j==0.10.9.3\n",
            "  Downloading py4j-0.10.9.3-py2.py3-none-any.whl (198 kB)\n",
            "\u001b[K     |████████████████████████████████| 198 kB 10.3 MB/s \n",
            "\u001b[?25hBuilding wheels for collected packages: pyspark\n",
            "  Building wheel for pyspark (setup.py) ... \u001b[?25l\u001b[?25hdone\n",
            "  Created wheel for pyspark: filename=pyspark-3.2.1-py2.py3-none-any.whl size=281853642 sha256=70b7bbbf9b33924338929fa322dae44a9f553492ea8c22a3ee4e71ff965ab819\n",
            "  Stored in directory: /root/.cache/pip/wheels/9f/f5/07/7cd8017084dce4e93e84e92efd1e1d5334db05f2e83bcef74f\n",
            "Successfully built pyspark\n",
            "Installing collected packages: py4j, pyspark\n",
            "Successfully installed py4j-0.10.9.3 pyspark-3.2.1\n"
          ]
        }
      ]
    },
    {
      "cell_type": "code",
      "source": [
        "from pyspark.sql import SparkSession\n",
        "\n",
        "spark = SparkSession.builder\\\n",
        "        .master(\"local\")\\\n",
        "        .appName(\"Colab\")\\\n",
        "        .config('spark.ui.port', '4050')\\\n",
        "        .getOrCreate()"
      ],
      "metadata": {
        "id": "ZFrL47YaFO--"
      },
      "execution_count": 2,
      "outputs": []
    },
    {
      "cell_type": "code",
      "source": [
        "spark"
      ],
      "metadata": {
        "colab": {
          "base_uri": "https://localhost:8080/",
          "height": 219
        },
        "id": "5o84n08UFUht",
        "outputId": "db35103c-d02f-42e1-e83e-c96ab5c665c4"
      },
      "execution_count": 3,
      "outputs": [
        {
          "output_type": "execute_result",
          "data": {
            "text/plain": [
              "<pyspark.sql.session.SparkSession at 0x7f69af1e6c10>"
            ],
            "text/html": [
              "\n",
              "            <div>\n",
              "                <p><b>SparkSession - in-memory</b></p>\n",
              "                \n",
              "        <div>\n",
              "            <p><b>SparkContext</b></p>\n",
              "\n",
              "            <p><a href=\"http://1f708d8fb887:4050\">Spark UI</a></p>\n",
              "\n",
              "            <dl>\n",
              "              <dt>Version</dt>\n",
              "                <dd><code>v3.2.1</code></dd>\n",
              "              <dt>Master</dt>\n",
              "                <dd><code>local</code></dd>\n",
              "              <dt>AppName</dt>\n",
              "                <dd><code>Colab</code></dd>\n",
              "            </dl>\n",
              "        </div>\n",
              "        \n",
              "            </div>\n",
              "        "
            ]
          },
          "metadata": {},
          "execution_count": 3
        }
      ]
    },
    {
      "cell_type": "markdown",
      "source": [
        "# Libraries"
      ],
      "metadata": {
        "id": "8LHXWazaRs3E"
      }
    },
    {
      "cell_type": "code",
      "execution_count": 6,
      "metadata": {
        "id": "0uXhhYydRnkU"
      },
      "outputs": [],
      "source": [
        "import pandas as pd\n",
        "import numpy as np\n",
        "import matplotlib.pyplot as plt"
      ]
    },
    {
      "cell_type": "code",
      "source": [
        "from pyspark.sql.types import FloatType, ArrayType, IntegerType\n",
        "from pyspark.sql.functions import udf\n",
        "import pyspark.sql.functions as f\n",
        "from pyspark.sql import Window"
      ],
      "metadata": {
        "id": "qivL6A9Tqg2N"
      },
      "execution_count": 5,
      "outputs": []
    },
    {
      "cell_type": "markdown",
      "source": [
        "# Dataset"
      ],
      "metadata": {
        "id": "kZ76wnApRwx7"
      }
    },
    {
      "cell_type": "code",
      "source": [
        "!gdown 1PdXgb4w0gtsocKHmeGQ_zPfb3VbW9YhL\n",
        "!unzip /content/Bigdata_hw2_datasets.zip"
      ],
      "metadata": {
        "colab": {
          "base_uri": "https://localhost:8080/"
        },
        "id": "Gm-3RyhoRxdB",
        "outputId": "e30bf42f-a476-4df1-9139-5eb474e227e0"
      },
      "execution_count": 7,
      "outputs": [
        {
          "output_type": "stream",
          "name": "stdout",
          "text": [
            "Downloading...\n",
            "From: https://drive.google.com/uc?id=1PdXgb4w0gtsocKHmeGQ_zPfb3VbW9YhL\n",
            "To: /content/Bigdata_hw2_datasets.zip\n",
            "\r  0% 0.00/6.28M [00:00<?, ?B/s]\r 75% 4.72M/6.28M [00:00<00:00, 37.2MB/s]\r100% 6.28M/6.28M [00:00<00:00, 46.8MB/s]\n",
            "Archive:  /content/Bigdata_hw2_datasets.zip\n",
            "   creating: Bigdata_hw2_datasets/\n",
            "   creating: Bigdata_hw2_datasets/q1/\n",
            "  inflating: Bigdata_hw2_datasets/q1/stream_data_dgim.txt  \n",
            "   creating: Bigdata_hw2_datasets/q2/\n",
            "  inflating: Bigdata_hw2_datasets/q2/games.csv  \n",
            "  inflating: Bigdata_hw2_datasets/q2/ratings.csv  \n",
            "   creating: Bigdata_hw2_datasets/q3/\n",
            "  inflating: Bigdata_hw2_datasets/q3/c1.txt  \n",
            "  inflating: Bigdata_hw2_datasets/q3/c2.txt  \n",
            "  inflating: Bigdata_hw2_datasets/q3/data.txt  \n"
          ]
        }
      ]
    },
    {
      "cell_type": "code",
      "source": [
        "dataset_pandas = pd.read_csv(\"/content/Bigdata_hw2_datasets/q3/data.txt\", header=None, names=[\"data\"])\n",
        "dataset_pandas[\"data\"] = dataset_pandas[\"data\"].apply(lambda x:x.split(\" \"))\n",
        "dataset_pandas[\"data\"] = dataset_pandas[\"data\"].apply(lambda item: [float(x) for x in item])\n",
        "dataset_pandas[\"data-id\"] = range(len(dataset_pandas))\n",
        "\n",
        "c1_pandas = pd.read_csv(\"/content/Bigdata_hw2_datasets/q3/c1.txt\", header=None, names=[\"center\"])\n",
        "c1_pandas[\"center\"] = c1_pandas[\"center\"].apply(lambda x:x.split(\" \"))\n",
        "c1_pandas[\"center\"] = c1_pandas[\"center\"].apply(lambda item: [float(x) for x in item])\n",
        "c1_pandas[\"center-id\"] = range(len(c1_pandas))\n",
        "\n",
        "c2_pandas = pd.read_csv(\"/content/Bigdata_hw2_datasets/q3/c2.txt\", header=None, names=[\"center\"])\n",
        "c2_pandas[\"center\"] = c2_pandas[\"center\"].apply(lambda x:x.split(\" \"))\n",
        "c2_pandas[\"center\"] = c2_pandas[\"center\"].apply(lambda item: [float(x) for x in item])\n",
        "c2_pandas[\"center-id\"] = range(len(c2_pandas))"
      ],
      "metadata": {
        "id": "UC2ZjPAdZH5Z"
      },
      "execution_count": 8,
      "outputs": []
    },
    {
      "cell_type": "code",
      "source": [
        "NUMBER_FEATURES = 58"
      ],
      "metadata": {
        "id": "77e97t5xTHJB"
      },
      "execution_count": 9,
      "outputs": []
    },
    {
      "cell_type": "markdown",
      "source": [
        "# KMeans"
      ],
      "metadata": {
        "id": "byPoiD53ZTLg"
      }
    },
    {
      "cell_type": "code",
      "source": [
        "class SparkKMeans():\n",
        "  def __init__(self, dataset, center, description):\n",
        "    self.dataset_spark = spark.createDataFrame(dataset)\n",
        "    self.center_spark = spark.createDataFrame(center)\n",
        "    self.description = description\n",
        "\n",
        "  def run(self, number_epochs):\n",
        "    self.number_epochs = number_epochs\n",
        "    self.costs = []\n",
        "    for step in range(number_epochs):\n",
        "      data_center_spark = self.dataset_spark.join(self.center_spark)\\\n",
        "                              .withColumn('distance', self.euclidean_distance(self.dataset_spark.data, self.center_spark.center))\n",
        "\n",
        "      data_center_spark = data_center_spark.withColumn(\"min-distance\", f.min(\"distance\")\\\n",
        "                                           .over(Window.partitionBy(\"data-id\")))\\\n",
        "                                           .where(f.col(\"min-distance\") == f.col(\"distance\"))\\\n",
        "                                           .drop(*[\"min-distance\", \"center\"])\n",
        "\n",
        "      step_cost = data_center_spark.select(\"distance\")\\\n",
        "                                   .groupBy().sum().collect()[0][0]\n",
        "      \n",
        "      self.costs.append(step_cost)\n",
        "      print(f\"Step = {step}, Cost = {step_cost}\")\n",
        "\n",
        "      data_center_mapping = data_center_spark.drop(*[\"data\", \"distance\"])\\\n",
        "                                             .toDF(\"data-id\", \"center-id\")\\\n",
        "                                             .toPandas()\n",
        "      \n",
        "      data_center_spark = data_center_spark.groupBy(\"center-id\")\\\n",
        "                                           .agg(f.collect_list(\"data\")\\\n",
        "                                           .alias(\"data-list\"))\n",
        "\n",
        "      array_mean_udf = udf(self.array_mean, ArrayType(FloatType()))\n",
        "\n",
        "      self.center_spark = data_center_spark.select(\"center-id\", array_mean_udf(\"data-list\")\\\n",
        "                                           .alias(\"center\"))\n",
        "\n",
        "    return data_center_mapping\n",
        "\n",
        "  def report(self):\n",
        "    print(f\"Change cost percent in ten steps {int((self.costs[0] - self.costs[10]) / self.costs[0] * 100)}%\\n\") \n",
        "\n",
        "    plt.scatter(range(1, self.number_epochs+1), self.costs)\n",
        "    plt.plot(range(1, self.number_epochs+1), self.costs)\n",
        "    plt.xlabel(\"Step\")\n",
        "    plt.ylabel(\"Cost\")\n",
        "    plt.title(f\"Change Cost in KMeans\\n{self.description}\")\n",
        "    plt.show()\n",
        "\n",
        "  @staticmethod\n",
        "  def euclidean_distance(a, b):\n",
        "    distance = 0\n",
        "    for i in range(NUMBER_FEATURES):\n",
        "      distance += (a[i] - b[i]) ** 2\n",
        "    return distance ** 0.5\n",
        "\n",
        "  @staticmethod\n",
        "  def array_mean(x):\n",
        "    number_data = len([i for i in zip(*x)][0])\n",
        "    sum_array = [sum(i) for i in zip(*x)]\n",
        "    return [item/number_data for item in sum_array]"
      ],
      "metadata": {
        "id": "ZBivr3T11vDd"
      },
      "execution_count": 28,
      "outputs": []
    },
    {
      "cell_type": "code",
      "source": [
        "kmeans = SparkKMeans(dataset=dataset_pandas, center=c1_pandas, description=\"C1-Euclidean\")"
      ],
      "metadata": {
        "id": "goycIweh5-nR"
      },
      "execution_count": 29,
      "outputs": []
    },
    {
      "cell_type": "code",
      "source": [
        "kmeans_output = kmeans.run(number_epochs=15)"
      ],
      "metadata": {
        "colab": {
          "base_uri": "https://localhost:8080/"
        },
        "id": "ZARKCFfN6dBn",
        "outputId": "f58d1ceb-b58b-4e8b-8f3c-602a55281c4f"
      },
      "execution_count": null,
      "outputs": [
        {
          "output_type": "stream",
          "name": "stdout",
          "text": [
            "Step = 0, Cost = 395749.8468388532\n",
            "Step = 1, Cost = 318949.51101113483\n",
            "Step = 2, Cost = 316897.8071501825\n",
            "Step = 3, Cost = 327978.22519918176\n",
            "Step = 4, Cost = 333528.0769713639\n"
          ]
        }
      ]
    },
    {
      "cell_type": "code",
      "source": [
        "kmeans.report()"
      ],
      "metadata": {
        "colab": {
          "base_uri": "https://localhost:8080/",
          "height": 327
        },
        "id": "lvf7H7Ur7WVQ",
        "outputId": "a88f7cad-475a-4abf-ff44-1fb224a67972"
      },
      "execution_count": 27,
      "outputs": [
        {
          "output_type": "stream",
          "name": "stdout",
          "text": [
            "Change cost percent 0.1992471767671429\n"
          ]
        },
        {
          "output_type": "display_data",
          "data": {
            "text/plain": [
              "<Figure size 432x288 with 1 Axes>"
            ],
            "image/png": "[encoded data removed]"
          },
          "metadata": {
            "needs_background": "light"
          }
        }
      ]
    }
  ]
}